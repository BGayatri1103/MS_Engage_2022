{
 "cells": [
  {
   "cell_type": "markdown",
   "id": "94e2ab38",
   "metadata": {},
   "source": [
    "# Importing the relevant libraries"
   ]
  },
  {
   "cell_type": "code",
   "execution_count": 1,
   "id": "075c0a20",
   "metadata": {},
   "outputs": [],
   "source": [
    "import numpy as np\n",
    "import pandas as pd\n",
    "import matplotlib.pyplot as plt\n",
    "import statsmodels.api as sm\n",
    "import seaborn\n",
    "seaborn.set()"
   ]
  },
  {
   "cell_type": "markdown",
   "id": "f2419946",
   "metadata": {},
   "source": [
    "# Loading the dataset"
   ]
  },
  {
   "cell_type": "markdown",
   "id": "fbb01230",
   "metadata": {},
   "source": [
    "#### Here we are loading the crude data set provided to us for preprocessing so as to make it suitable for analysis as well as for feeding any machine learning model."
   ]
  },
  {
   "cell_type": "code",
   "execution_count": 2,
   "id": "e020e684",
   "metadata": {},
   "outputs": [],
   "source": [
    "data=pd.read_csv('cars_engage_2022.csv')"
   ]
  },
  {
   "cell_type": "markdown",
   "id": "fe97c3b3",
   "metadata": {},
   "source": [
    "# Exploring the data"
   ]
  },
  {
   "cell_type": "code",
   "execution_count": 3,
   "id": "09700fb0",
   "metadata": {
    "scrolled": true
   },
   "outputs": [
    {
     "data": {
      "text/html": [
       "<div>\n",
       "<style scoped>\n",
       "    .dataframe tbody tr th:only-of-type {\n",
       "        vertical-align: middle;\n",
       "    }\n",
       "\n",
       "    .dataframe tbody tr th {\n",
       "        vertical-align: top;\n",
       "    }\n",
       "\n",
       "    .dataframe thead th {\n",
       "        text-align: right;\n",
       "    }\n",
       "</style>\n",
       "<table border=\"1\" class=\"dataframe\">\n",
       "  <thead>\n",
       "    <tr style=\"text-align: right;\">\n",
       "      <th></th>\n",
       "      <th>Unnamed: 0</th>\n",
       "      <th>Make</th>\n",
       "      <th>Model</th>\n",
       "      <th>Variant</th>\n",
       "      <th>Ex-Showroom_Price</th>\n",
       "      <th>Displacement</th>\n",
       "      <th>Cylinders</th>\n",
       "      <th>Valves_Per_Cylinder</th>\n",
       "      <th>Drivetrain</th>\n",
       "      <th>Cylinder_Configuration</th>\n",
       "      <th>...</th>\n",
       "      <th>Leather_Wrapped_Steering</th>\n",
       "      <th>Automatic_Headlamps</th>\n",
       "      <th>Engine_Type</th>\n",
       "      <th>ASR_/_Traction_Control</th>\n",
       "      <th>Cruise_Control</th>\n",
       "      <th>USB_Ports</th>\n",
       "      <th>Heads-Up_Display</th>\n",
       "      <th>Welcome_Lights</th>\n",
       "      <th>Battery</th>\n",
       "      <th>Electric_Range</th>\n",
       "    </tr>\n",
       "  </thead>\n",
       "  <tbody>\n",
       "    <tr>\n",
       "      <th>0</th>\n",
       "      <td>0</td>\n",
       "      <td>Tata</td>\n",
       "      <td>Nano Genx</td>\n",
       "      <td>Xt</td>\n",
       "      <td>Rs. 2,92,667</td>\n",
       "      <td>624 cc</td>\n",
       "      <td>2.0</td>\n",
       "      <td>2.0</td>\n",
       "      <td>RWD (Rear Wheel Drive)</td>\n",
       "      <td>In-line</td>\n",
       "      <td>...</td>\n",
       "      <td>NaN</td>\n",
       "      <td>NaN</td>\n",
       "      <td>NaN</td>\n",
       "      <td>NaN</td>\n",
       "      <td>NaN</td>\n",
       "      <td>NaN</td>\n",
       "      <td>NaN</td>\n",
       "      <td>NaN</td>\n",
       "      <td>NaN</td>\n",
       "      <td>NaN</td>\n",
       "    </tr>\n",
       "    <tr>\n",
       "      <th>1</th>\n",
       "      <td>1</td>\n",
       "      <td>Tata</td>\n",
       "      <td>Nano Genx</td>\n",
       "      <td>Xe</td>\n",
       "      <td>Rs. 2,36,447</td>\n",
       "      <td>624 cc</td>\n",
       "      <td>2.0</td>\n",
       "      <td>2.0</td>\n",
       "      <td>RWD (Rear Wheel Drive)</td>\n",
       "      <td>In-line</td>\n",
       "      <td>...</td>\n",
       "      <td>NaN</td>\n",
       "      <td>NaN</td>\n",
       "      <td>NaN</td>\n",
       "      <td>NaN</td>\n",
       "      <td>NaN</td>\n",
       "      <td>NaN</td>\n",
       "      <td>NaN</td>\n",
       "      <td>NaN</td>\n",
       "      <td>NaN</td>\n",
       "      <td>NaN</td>\n",
       "    </tr>\n",
       "    <tr>\n",
       "      <th>2</th>\n",
       "      <td>2</td>\n",
       "      <td>Tata</td>\n",
       "      <td>Nano Genx</td>\n",
       "      <td>Emax Xm</td>\n",
       "      <td>Rs. 2,96,661</td>\n",
       "      <td>624 cc</td>\n",
       "      <td>2.0</td>\n",
       "      <td>2.0</td>\n",
       "      <td>RWD (Rear Wheel Drive)</td>\n",
       "      <td>In-line</td>\n",
       "      <td>...</td>\n",
       "      <td>NaN</td>\n",
       "      <td>NaN</td>\n",
       "      <td>NaN</td>\n",
       "      <td>NaN</td>\n",
       "      <td>NaN</td>\n",
       "      <td>NaN</td>\n",
       "      <td>NaN</td>\n",
       "      <td>NaN</td>\n",
       "      <td>NaN</td>\n",
       "      <td>NaN</td>\n",
       "    </tr>\n",
       "    <tr>\n",
       "      <th>3</th>\n",
       "      <td>3</td>\n",
       "      <td>Tata</td>\n",
       "      <td>Nano Genx</td>\n",
       "      <td>Xta</td>\n",
       "      <td>Rs. 3,34,768</td>\n",
       "      <td>624 cc</td>\n",
       "      <td>2.0</td>\n",
       "      <td>2.0</td>\n",
       "      <td>RWD (Rear Wheel Drive)</td>\n",
       "      <td>In-line</td>\n",
       "      <td>...</td>\n",
       "      <td>NaN</td>\n",
       "      <td>NaN</td>\n",
       "      <td>NaN</td>\n",
       "      <td>NaN</td>\n",
       "      <td>NaN</td>\n",
       "      <td>NaN</td>\n",
       "      <td>NaN</td>\n",
       "      <td>NaN</td>\n",
       "      <td>NaN</td>\n",
       "      <td>NaN</td>\n",
       "    </tr>\n",
       "    <tr>\n",
       "      <th>4</th>\n",
       "      <td>4</td>\n",
       "      <td>Tata</td>\n",
       "      <td>Nano Genx</td>\n",
       "      <td>Xm</td>\n",
       "      <td>Rs. 2,72,223</td>\n",
       "      <td>624 cc</td>\n",
       "      <td>2.0</td>\n",
       "      <td>2.0</td>\n",
       "      <td>RWD (Rear Wheel Drive)</td>\n",
       "      <td>In-line</td>\n",
       "      <td>...</td>\n",
       "      <td>NaN</td>\n",
       "      <td>NaN</td>\n",
       "      <td>NaN</td>\n",
       "      <td>NaN</td>\n",
       "      <td>NaN</td>\n",
       "      <td>NaN</td>\n",
       "      <td>NaN</td>\n",
       "      <td>NaN</td>\n",
       "      <td>NaN</td>\n",
       "      <td>NaN</td>\n",
       "    </tr>\n",
       "    <tr>\n",
       "      <th>...</th>\n",
       "      <td>...</td>\n",
       "      <td>...</td>\n",
       "      <td>...</td>\n",
       "      <td>...</td>\n",
       "      <td>...</td>\n",
       "      <td>...</td>\n",
       "      <td>...</td>\n",
       "      <td>...</td>\n",
       "      <td>...</td>\n",
       "      <td>...</td>\n",
       "      <td>...</td>\n",
       "      <td>...</td>\n",
       "      <td>...</td>\n",
       "      <td>...</td>\n",
       "      <td>...</td>\n",
       "      <td>...</td>\n",
       "      <td>...</td>\n",
       "      <td>...</td>\n",
       "      <td>...</td>\n",
       "      <td>...</td>\n",
       "      <td>...</td>\n",
       "    </tr>\n",
       "    <tr>\n",
       "      <th>1271</th>\n",
       "      <td>1271</td>\n",
       "      <td>Honda</td>\n",
       "      <td>City</td>\n",
       "      <td>Vx Mt Diesel</td>\n",
       "      <td>Rs. 13,02,000</td>\n",
       "      <td>1498 cc</td>\n",
       "      <td>4.0</td>\n",
       "      <td>4.0</td>\n",
       "      <td>FWD (Front Wheel Drive)</td>\n",
       "      <td>In-line</td>\n",
       "      <td>...</td>\n",
       "      <td>Yes</td>\n",
       "      <td>NaN</td>\n",
       "      <td>NaN</td>\n",
       "      <td>NaN</td>\n",
       "      <td>Yes</td>\n",
       "      <td>NaN</td>\n",
       "      <td>NaN</td>\n",
       "      <td>NaN</td>\n",
       "      <td>NaN</td>\n",
       "      <td>NaN</td>\n",
       "    </tr>\n",
       "    <tr>\n",
       "      <th>1272</th>\n",
       "      <td>1272</td>\n",
       "      <td>Honda</td>\n",
       "      <td>City</td>\n",
       "      <td>Zx Mt Diesel</td>\n",
       "      <td>Rs. 14,21,000</td>\n",
       "      <td>1498 cc</td>\n",
       "      <td>4.0</td>\n",
       "      <td>4.0</td>\n",
       "      <td>FWD (Front Wheel Drive)</td>\n",
       "      <td>In-line</td>\n",
       "      <td>...</td>\n",
       "      <td>Yes</td>\n",
       "      <td>Yes</td>\n",
       "      <td>NaN</td>\n",
       "      <td>NaN</td>\n",
       "      <td>Yes</td>\n",
       "      <td>NaN</td>\n",
       "      <td>NaN</td>\n",
       "      <td>NaN</td>\n",
       "      <td>NaN</td>\n",
       "      <td>NaN</td>\n",
       "    </tr>\n",
       "    <tr>\n",
       "      <th>1273</th>\n",
       "      <td>1273</td>\n",
       "      <td>Honda</td>\n",
       "      <td>City</td>\n",
       "      <td>Zx Cvt Petrol</td>\n",
       "      <td>Rs. 14,31,000</td>\n",
       "      <td>1497 cc</td>\n",
       "      <td>4.0</td>\n",
       "      <td>4.0</td>\n",
       "      <td>FWD (Front Wheel Drive)</td>\n",
       "      <td>In-line</td>\n",
       "      <td>...</td>\n",
       "      <td>Yes</td>\n",
       "      <td>Yes</td>\n",
       "      <td>NaN</td>\n",
       "      <td>NaN</td>\n",
       "      <td>Yes</td>\n",
       "      <td>NaN</td>\n",
       "      <td>NaN</td>\n",
       "      <td>NaN</td>\n",
       "      <td>NaN</td>\n",
       "      <td>NaN</td>\n",
       "    </tr>\n",
       "    <tr>\n",
       "      <th>1274</th>\n",
       "      <td>1274</td>\n",
       "      <td>Honda</td>\n",
       "      <td>City</td>\n",
       "      <td>V Cvt Petrol</td>\n",
       "      <td>Rs. 12,01,000</td>\n",
       "      <td>1497 cc</td>\n",
       "      <td>4.0</td>\n",
       "      <td>4.0</td>\n",
       "      <td>FWD (Front Wheel Drive)</td>\n",
       "      <td>In-line</td>\n",
       "      <td>...</td>\n",
       "      <td>NaN</td>\n",
       "      <td>NaN</td>\n",
       "      <td>NaN</td>\n",
       "      <td>NaN</td>\n",
       "      <td>Yes</td>\n",
       "      <td>NaN</td>\n",
       "      <td>NaN</td>\n",
       "      <td>NaN</td>\n",
       "      <td>NaN</td>\n",
       "      <td>NaN</td>\n",
       "    </tr>\n",
       "    <tr>\n",
       "      <th>1275</th>\n",
       "      <td>1275</td>\n",
       "      <td>Mitsubishi</td>\n",
       "      <td>Montero</td>\n",
       "      <td>3.2 At</td>\n",
       "      <td>Rs. 68,62,560</td>\n",
       "      <td>3200 cc</td>\n",
       "      <td>4.0</td>\n",
       "      <td>4.0</td>\n",
       "      <td>AWD (All Wheel Drive)</td>\n",
       "      <td>In-line</td>\n",
       "      <td>...</td>\n",
       "      <td>Yes</td>\n",
       "      <td>NaN</td>\n",
       "      <td>NaN</td>\n",
       "      <td>Yes</td>\n",
       "      <td>Yes</td>\n",
       "      <td>NaN</td>\n",
       "      <td>NaN</td>\n",
       "      <td>NaN</td>\n",
       "      <td>NaN</td>\n",
       "      <td>NaN</td>\n",
       "    </tr>\n",
       "  </tbody>\n",
       "</table>\n",
       "<p>1276 rows × 141 columns</p>\n",
       "</div>"
      ],
      "text/plain": [
       "      Unnamed: 0        Make      Model        Variant Ex-Showroom_Price  \\\n",
       "0              0        Tata  Nano Genx             Xt      Rs. 2,92,667   \n",
       "1              1        Tata  Nano Genx             Xe      Rs. 2,36,447   \n",
       "2              2        Tata  Nano Genx        Emax Xm      Rs. 2,96,661   \n",
       "3              3        Tata  Nano Genx            Xta      Rs. 3,34,768   \n",
       "4              4        Tata  Nano Genx             Xm      Rs. 2,72,223   \n",
       "...          ...         ...        ...            ...               ...   \n",
       "1271        1271       Honda       City   Vx Mt Diesel     Rs. 13,02,000   \n",
       "1272        1272       Honda       City   Zx Mt Diesel     Rs. 14,21,000   \n",
       "1273        1273       Honda       City  Zx Cvt Petrol     Rs. 14,31,000   \n",
       "1274        1274       Honda       City   V Cvt Petrol     Rs. 12,01,000   \n",
       "1275        1275  Mitsubishi    Montero         3.2 At     Rs. 68,62,560   \n",
       "\n",
       "     Displacement  Cylinders  Valves_Per_Cylinder               Drivetrain  \\\n",
       "0          624 cc        2.0                  2.0   RWD (Rear Wheel Drive)   \n",
       "1          624 cc        2.0                  2.0   RWD (Rear Wheel Drive)   \n",
       "2          624 cc        2.0                  2.0   RWD (Rear Wheel Drive)   \n",
       "3          624 cc        2.0                  2.0   RWD (Rear Wheel Drive)   \n",
       "4          624 cc        2.0                  2.0   RWD (Rear Wheel Drive)   \n",
       "...           ...        ...                  ...                      ...   \n",
       "1271      1498 cc        4.0                  4.0  FWD (Front Wheel Drive)   \n",
       "1272      1498 cc        4.0                  4.0  FWD (Front Wheel Drive)   \n",
       "1273      1497 cc        4.0                  4.0  FWD (Front Wheel Drive)   \n",
       "1274      1497 cc        4.0                  4.0  FWD (Front Wheel Drive)   \n",
       "1275      3200 cc        4.0                  4.0    AWD (All Wheel Drive)   \n",
       "\n",
       "     Cylinder_Configuration  ... Leather_Wrapped_Steering Automatic_Headlamps  \\\n",
       "0                   In-line  ...                      NaN                 NaN   \n",
       "1                   In-line  ...                      NaN                 NaN   \n",
       "2                   In-line  ...                      NaN                 NaN   \n",
       "3                   In-line  ...                      NaN                 NaN   \n",
       "4                   In-line  ...                      NaN                 NaN   \n",
       "...                     ...  ...                      ...                 ...   \n",
       "1271                In-line  ...                      Yes                 NaN   \n",
       "1272                In-line  ...                      Yes                 Yes   \n",
       "1273                In-line  ...                      Yes                 Yes   \n",
       "1274                In-line  ...                      NaN                 NaN   \n",
       "1275                In-line  ...                      Yes                 NaN   \n",
       "\n",
       "     Engine_Type ASR_/_Traction_Control Cruise_Control USB_Ports  \\\n",
       "0            NaN                    NaN            NaN       NaN   \n",
       "1            NaN                    NaN            NaN       NaN   \n",
       "2            NaN                    NaN            NaN       NaN   \n",
       "3            NaN                    NaN            NaN       NaN   \n",
       "4            NaN                    NaN            NaN       NaN   \n",
       "...          ...                    ...            ...       ...   \n",
       "1271         NaN                    NaN            Yes       NaN   \n",
       "1272         NaN                    NaN            Yes       NaN   \n",
       "1273         NaN                    NaN            Yes       NaN   \n",
       "1274         NaN                    NaN            Yes       NaN   \n",
       "1275         NaN                    Yes            Yes       NaN   \n",
       "\n",
       "     Heads-Up_Display Welcome_Lights Battery  Electric_Range  \n",
       "0                 NaN            NaN     NaN             NaN  \n",
       "1                 NaN            NaN     NaN             NaN  \n",
       "2                 NaN            NaN     NaN             NaN  \n",
       "3                 NaN            NaN     NaN             NaN  \n",
       "4                 NaN            NaN     NaN             NaN  \n",
       "...               ...            ...     ...             ...  \n",
       "1271              NaN            NaN     NaN             NaN  \n",
       "1272              NaN            NaN     NaN             NaN  \n",
       "1273              NaN            NaN     NaN             NaN  \n",
       "1274              NaN            NaN     NaN             NaN  \n",
       "1275              NaN            NaN     NaN             NaN  \n",
       "\n",
       "[1276 rows x 141 columns]"
      ]
     },
     "execution_count": 3,
     "metadata": {},
     "output_type": "execute_result"
    }
   ],
   "source": [
    "data"
   ]
  },
  {
   "cell_type": "code",
   "execution_count": 4,
   "id": "1056ac4a",
   "metadata": {},
   "outputs": [
    {
     "data": {
      "text/html": [
       "<div>\n",
       "<style scoped>\n",
       "    .dataframe tbody tr th:only-of-type {\n",
       "        vertical-align: middle;\n",
       "    }\n",
       "\n",
       "    .dataframe tbody tr th {\n",
       "        vertical-align: top;\n",
       "    }\n",
       "\n",
       "    .dataframe thead th {\n",
       "        text-align: right;\n",
       "    }\n",
       "</style>\n",
       "<table border=\"1\" class=\"dataframe\">\n",
       "  <thead>\n",
       "    <tr style=\"text-align: right;\">\n",
       "      <th></th>\n",
       "      <th>Unnamed: 0</th>\n",
       "      <th>Cylinders</th>\n",
       "      <th>Valves_Per_Cylinder</th>\n",
       "      <th>Doors</th>\n",
       "      <th>Seating_Capacity</th>\n",
       "      <th>Number_of_Airbags</th>\n",
       "      <th>USB_Ports</th>\n",
       "    </tr>\n",
       "  </thead>\n",
       "  <tbody>\n",
       "    <tr>\n",
       "      <th>count</th>\n",
       "      <td>1276.000000</td>\n",
       "      <td>1210.000000</td>\n",
       "      <td>1174.000000</td>\n",
       "      <td>1272.000000</td>\n",
       "      <td>1270.000000</td>\n",
       "      <td>1141.000000</td>\n",
       "      <td>29.000000</td>\n",
       "    </tr>\n",
       "    <tr>\n",
       "      <th>mean</th>\n",
       "      <td>637.500000</td>\n",
       "      <td>4.380992</td>\n",
       "      <td>3.977853</td>\n",
       "      <td>4.550314</td>\n",
       "      <td>5.270079</td>\n",
       "      <td>3.787029</td>\n",
       "      <td>1.793103</td>\n",
       "    </tr>\n",
       "    <tr>\n",
       "      <th>std</th>\n",
       "      <td>368.493781</td>\n",
       "      <td>1.660957</td>\n",
       "      <td>0.833763</td>\n",
       "      <td>0.747816</td>\n",
       "      <td>1.145231</td>\n",
       "      <td>2.522399</td>\n",
       "      <td>0.773642</td>\n",
       "    </tr>\n",
       "    <tr>\n",
       "      <th>min</th>\n",
       "      <td>0.000000</td>\n",
       "      <td>2.000000</td>\n",
       "      <td>1.000000</td>\n",
       "      <td>2.000000</td>\n",
       "      <td>2.000000</td>\n",
       "      <td>1.000000</td>\n",
       "      <td>1.000000</td>\n",
       "    </tr>\n",
       "    <tr>\n",
       "      <th>25%</th>\n",
       "      <td>318.750000</td>\n",
       "      <td>4.000000</td>\n",
       "      <td>4.000000</td>\n",
       "      <td>4.000000</td>\n",
       "      <td>5.000000</td>\n",
       "      <td>2.000000</td>\n",
       "      <td>1.000000</td>\n",
       "    </tr>\n",
       "    <tr>\n",
       "      <th>50%</th>\n",
       "      <td>637.500000</td>\n",
       "      <td>4.000000</td>\n",
       "      <td>4.000000</td>\n",
       "      <td>5.000000</td>\n",
       "      <td>5.000000</td>\n",
       "      <td>2.000000</td>\n",
       "      <td>2.000000</td>\n",
       "    </tr>\n",
       "    <tr>\n",
       "      <th>75%</th>\n",
       "      <td>956.250000</td>\n",
       "      <td>4.000000</td>\n",
       "      <td>4.000000</td>\n",
       "      <td>5.000000</td>\n",
       "      <td>5.000000</td>\n",
       "      <td>6.000000</td>\n",
       "      <td>2.000000</td>\n",
       "    </tr>\n",
       "    <tr>\n",
       "      <th>max</th>\n",
       "      <td>1275.000000</td>\n",
       "      <td>16.000000</td>\n",
       "      <td>16.000000</td>\n",
       "      <td>5.000000</td>\n",
       "      <td>16.000000</td>\n",
       "      <td>14.000000</td>\n",
       "      <td>3.000000</td>\n",
       "    </tr>\n",
       "  </tbody>\n",
       "</table>\n",
       "</div>"
      ],
      "text/plain": [
       "        Unnamed: 0    Cylinders  Valves_Per_Cylinder        Doors  \\\n",
       "count  1276.000000  1210.000000          1174.000000  1272.000000   \n",
       "mean    637.500000     4.380992             3.977853     4.550314   \n",
       "std     368.493781     1.660957             0.833763     0.747816   \n",
       "min       0.000000     2.000000             1.000000     2.000000   \n",
       "25%     318.750000     4.000000             4.000000     4.000000   \n",
       "50%     637.500000     4.000000             4.000000     5.000000   \n",
       "75%     956.250000     4.000000             4.000000     5.000000   \n",
       "max    1275.000000    16.000000            16.000000     5.000000   \n",
       "\n",
       "       Seating_Capacity  Number_of_Airbags  USB_Ports  \n",
       "count       1270.000000        1141.000000  29.000000  \n",
       "mean           5.270079           3.787029   1.793103  \n",
       "std            1.145231           2.522399   0.773642  \n",
       "min            2.000000           1.000000   1.000000  \n",
       "25%            5.000000           2.000000   1.000000  \n",
       "50%            5.000000           2.000000   2.000000  \n",
       "75%            5.000000           6.000000   2.000000  \n",
       "max           16.000000          14.000000   3.000000  "
      ]
     },
     "execution_count": 4,
     "metadata": {},
     "output_type": "execute_result"
    }
   ],
   "source": [
    "data.describe()"
   ]
  },
  {
   "cell_type": "markdown",
   "id": "caa98c7a",
   "metadata": {},
   "source": [
    "#### Checking if the features (columns) contain any missing values. 'True' implies that the respective column has missing values and 'false' implies that it doesn't."
   ]
  },
  {
   "cell_type": "code",
   "execution_count": 5,
   "id": "e138674c",
   "metadata": {},
   "outputs": [
    {
     "data": {
      "text/plain": [
       "Unnamed: 0           False\n",
       "Make                  True\n",
       "Model                False\n",
       "Variant              False\n",
       "Ex-Showroom_Price    False\n",
       "                     ...  \n",
       "USB_Ports             True\n",
       "Heads-Up_Display      True\n",
       "Welcome_Lights        True\n",
       "Battery               True\n",
       "Electric_Range        True\n",
       "Length: 141, dtype: bool"
      ]
     },
     "execution_count": 5,
     "metadata": {},
     "output_type": "execute_result"
    }
   ],
   "source": [
    "data.isna().any()"
   ]
  },
  {
   "cell_type": "markdown",
   "id": "48517474",
   "metadata": {},
   "source": [
    "##### Setting the notebook to display all the rows instead of a few in a compressed view for better analysis."
   ]
  },
  {
   "cell_type": "code",
   "execution_count": 6,
   "id": "482a56ec",
   "metadata": {},
   "outputs": [],
   "source": [
    "\n",
    "pd.set_option('display.max_rows', None)"
   ]
  },
  {
   "cell_type": "markdown",
   "id": "d691e0db",
   "metadata": {},
   "source": [
    "##### Checking the data types of all the available features in the crude data. As we can see, there are features like 'Height', 'Width', etc which should have been assigned numerical data-type but are instead assigned 'object' data-type. These features need to be assigned with their correct data-types before we move ahead with further analysis."
   ]
  },
  {
   "cell_type": "code",
   "execution_count": 7,
   "id": "d8b5bd55",
   "metadata": {},
   "outputs": [
    {
     "data": {
      "text/plain": [
       "Unnamed: 0                                     int64\n",
       "Make                                          object\n",
       "Model                                         object\n",
       "Variant                                       object\n",
       "Ex-Showroom_Price                             object\n",
       "Displacement                                  object\n",
       "Cylinders                                    float64\n",
       "Valves_Per_Cylinder                          float64\n",
       "Drivetrain                                    object\n",
       "Cylinder_Configuration                        object\n",
       "Emission_Norm                                 object\n",
       "Engine_Location                               object\n",
       "Fuel_System                                   object\n",
       "Fuel_Tank_Capacity                            object\n",
       "Fuel_Type                                     object\n",
       "Height                                        object\n",
       "Length                                        object\n",
       "Width                                         object\n",
       "Body_Type                                     object\n",
       "Doors                                        float64\n",
       "City_Mileage                                  object\n",
       "Highway_Mileage                               object\n",
       "ARAI_Certified_Mileage                        object\n",
       "ARAI_Certified_Mileage_for_CNG                object\n",
       "Kerb_Weight                                   object\n",
       "Gears                                         object\n",
       "Ground_Clearance                              object\n",
       "Front_Brakes                                  object\n",
       "Rear_Brakes                                   object\n",
       "Front_Suspension                              object\n",
       "Rear_Suspension                               object\n",
       "Front_Track                                   object\n",
       "Rear_Track                                    object\n",
       "Front_Tyre_&_Rim                              object\n",
       "Rear_Tyre_&_Rim                               object\n",
       "Power_Steering                                object\n",
       "Power_Windows                                 object\n",
       "Power_Seats                                   object\n",
       "Keyless_Entry                                 object\n",
       "Power                                         object\n",
       "Torque                                        object\n",
       "Odometer                                      object\n",
       "Speedometer                                   object\n",
       "Tachometer                                    object\n",
       "Tripmeter                                     object\n",
       "Seating_Capacity                             float64\n",
       "Seats_Material                                object\n",
       "Type                                          object\n",
       "Wheelbase                                     object\n",
       "Wheels_Size                                   object\n",
       "Start_/_Stop_Button                           object\n",
       "12v_Power_Outlet                              object\n",
       "Audiosystem                                   object\n",
       "Aux-in_Compatibility                          object\n",
       "Average_Fuel_Consumption                      object\n",
       "Basic_Warranty                                object\n",
       "Bluetooth                                     object\n",
       "Boot-lid_Opener                               object\n",
       "Boot_Space                                    object\n",
       "CD_/_MP3_/_DVD_Player                         object\n",
       "Central_Locking                               object\n",
       "Child_Safety_Locks                            object\n",
       "Clock                                         object\n",
       "Cup_Holders                                   object\n",
       "Distance_to_Empty                             object\n",
       "Door_Pockets                                  object\n",
       "Engine_Malfunction_Light                      object\n",
       "Extended_Warranty                             object\n",
       "FM_Radio                                      object\n",
       "Fuel-lid_Opener                               object\n",
       "Fuel_Gauge                                    object\n",
       "Handbrake                                     object\n",
       "Instrument_Console                            object\n",
       "Low_Fuel_Warning                              object\n",
       "Minimum_Turning_Radius                        object\n",
       "Multifunction_Display                         object\n",
       "Sun_Visor                                     object\n",
       "Third_Row_AC_Vents                            object\n",
       "Ventilation_System                            object\n",
       "Auto-Dimming_Rear-View_Mirror                 object\n",
       "Hill_Assist                                   object\n",
       "Gear_Indicator                                object\n",
       "3_Point_Seat-Belt_in_Middle_Rear_Seat         object\n",
       "Ambient_Lightning                             object\n",
       "Cargo/Boot_Lights                             object\n",
       "Drive_Modes                                   object\n",
       "Engine_Immobilizer                            object\n",
       "High_Speed_Alert_System                       object\n",
       "Lane_Watch_Camera/_Side_Mirror_Camera         object\n",
       "Passenger_Side_Seat-Belt_Reminder             object\n",
       "Seat_Back_Pockets                             object\n",
       "Voice_Recognition                             object\n",
       "Walk_Away_Auto_Car_Lock                       object\n",
       "ABS_(Anti-lock_Braking_System)                object\n",
       "Headlight_Reminder                            object\n",
       "Adjustable_Headrests                          object\n",
       "Gross_Vehicle_Weight                          object\n",
       "Airbags                                       object\n",
       "Door_Ajar_Warning                             object\n",
       "EBD_(Electronic_Brake-force_Distribution)     object\n",
       "Fasten_Seat_Belt_Warning                      object\n",
       "Gear_Shift_Reminder                           object\n",
       "Number_of_Airbags                            float64\n",
       "Compression_Ratio                             object\n",
       "Adjustable_Steering_Column                    object\n",
       "Other_Specs                                   object\n",
       "Other_specs                                   object\n",
       "Parking_Assistance                            object\n",
       "Key_Off_Reminder                              object\n",
       "USB_Compatibility                             object\n",
       "Android_Auto                                  object\n",
       "Apple_CarPlay                                 object\n",
       "Cigarette_Lighter                             object\n",
       "Infotainment_Screen                           object\n",
       "Multifunction_Steering_Wheel                  object\n",
       "Average_Speed                                 object\n",
       "EBA_(Electronic_Brake_Assist)                 object\n",
       "Seat_Height_Adjustment                        object\n",
       "Navigation_System                             object\n",
       "Second_Row_AC_Vents                           object\n",
       "Tyre_Pressure_Monitoring_System               object\n",
       "Rear_Center_Armrest                           object\n",
       "iPod_Compatibility                            object\n",
       "ESP_(Electronic_Stability_Program)            object\n",
       "Cooled_Glove_Box                              object\n",
       "Recommended_Tyre_Pressure                     object\n",
       "Heated_Seats                                  object\n",
       "Turbocharger                                  object\n",
       "ISOFIX_(Child-Seat_Mount)                     object\n",
       "Rain_Sensing_Wipers                           object\n",
       "Paddle_Shifters                               object\n",
       "Leather_Wrapped_Steering                      object\n",
       "Automatic_Headlamps                           object\n",
       "Engine_Type                                   object\n",
       "ASR_/_Traction_Control                        object\n",
       "Cruise_Control                                object\n",
       "USB_Ports                                    float64\n",
       "Heads-Up_Display                              object\n",
       "Welcome_Lights                                object\n",
       "Battery                                       object\n",
       "Electric_Range                                object\n",
       "dtype: object"
      ]
     },
     "execution_count": 7,
     "metadata": {},
     "output_type": "execute_result"
    }
   ],
   "source": [
    "data.dtypes"
   ]
  },
  {
   "cell_type": "markdown",
   "id": "9400bfcf",
   "metadata": {},
   "source": [
    "##### Checking the total number of missing values in each column. By default pandas marks the missing values as 'NaN' which is of float data-type"
   ]
  },
  {
   "cell_type": "code",
   "execution_count": 8,
   "id": "b0cc51c7",
   "metadata": {
    "scrolled": true
   },
   "outputs": [
    {
     "data": {
      "text/plain": [
       "Unnamed: 0                                      0\n",
       "Make                                           75\n",
       "Model                                           0\n",
       "Variant                                         0\n",
       "Ex-Showroom_Price                               0\n",
       "Displacement                                   12\n",
       "Cylinders                                      66\n",
       "Valves_Per_Cylinder                           102\n",
       "Drivetrain                                      7\n",
       "Cylinder_Configuration                         13\n",
       "Emission_Norm                                  11\n",
       "Engine_Location                                43\n",
       "Fuel_System                                     8\n",
       "Fuel_Tank_Capacity                             69\n",
       "Fuel_Type                                       0\n",
       "Height                                          1\n",
       "Length                                          0\n",
       "Width                                          12\n",
       "Body_Type                                       6\n",
       "Doors                                           4\n",
       "City_Mileage                                  555\n",
       "Highway_Mileage                               800\n",
       "ARAI_Certified_Mileage                        114\n",
       "ARAI_Certified_Mileage_for_CNG               1249\n",
       "Kerb_Weight                                   365\n",
       "Gears                                         105\n",
       "Ground_Clearance                              289\n",
       "Front_Brakes                                   25\n",
       "Rear_Brakes                                    25\n",
       "Front_Suspension                               59\n",
       "Rear_Suspension                                46\n",
       "Front_Track                                   667\n",
       "Rear_Track                                    676\n",
       "Front_Tyre_&_Rim                               49\n",
       "Rear_Tyre_&_Rim                                48\n",
       "Power_Steering                                 57\n",
       "Power_Windows                                  97\n",
       "Power_Seats                                   893\n",
       "Keyless_Entry                                 274\n",
       "Power                                           0\n",
       "Torque                                          2\n",
       "Odometer                                       43\n",
       "Speedometer                                    45\n",
       "Tachometer                                     13\n",
       "Tripmeter                                      60\n",
       "Seating_Capacity                                6\n",
       "Seats_Material                                 12\n",
       "Type                                            1\n",
       "Wheelbase                                      20\n",
       "Wheels_Size                                    56\n",
       "Start_/_Stop_Button                           678\n",
       "12v_Power_Outlet                              154\n",
       "Audiosystem                                    44\n",
       "Aux-in_Compatibility                          284\n",
       "Average_Fuel_Consumption                      345\n",
       "Basic_Warranty                                440\n",
       "Bluetooth                                     292\n",
       "Boot-lid_Opener                                14\n",
       "Boot_Space                                    249\n",
       "CD_/_MP3_/_DVD_Player                         309\n",
       "Central_Locking                               149\n",
       "Child_Safety_Locks                             75\n",
       "Clock                                         134\n",
       "Cup_Holders                                    41\n",
       "Distance_to_Empty                             243\n",
       "Door_Pockets                                  117\n",
       "Engine_Malfunction_Light                      117\n",
       "Extended_Warranty                             661\n",
       "FM_Radio                                      249\n",
       "Fuel-lid_Opener                                14\n",
       "Fuel_Gauge                                     39\n",
       "Handbrake                                      57\n",
       "Instrument_Console                             14\n",
       "Low_Fuel_Warning                               36\n",
       "Minimum_Turning_Radius                        381\n",
       "Multifunction_Display                          89\n",
       "Sun_Visor                                      62\n",
       "Third_Row_AC_Vents                            366\n",
       "Ventilation_System                             35\n",
       "Auto-Dimming_Rear-View_Mirror                 620\n",
       "Hill_Assist                                   796\n",
       "Gear_Indicator                                499\n",
       "3_Point_Seat-Belt_in_Middle_Rear_Seat        1225\n",
       "Ambient_Lightning                            1220\n",
       "Cargo/Boot_Lights                            1155\n",
       "Drive_Modes                                  1081\n",
       "Engine_Immobilizer                             60\n",
       "High_Speed_Alert_System                      1068\n",
       "Lane_Watch_Camera/_Side_Mirror_Camera        1210\n",
       "Passenger_Side_Seat-Belt_Reminder            1105\n",
       "Seat_Back_Pockets                             443\n",
       "Voice_Recognition                            1144\n",
       "Walk_Away_Auto_Car_Lock                      1173\n",
       "ABS_(Anti-lock_Braking_System)                132\n",
       "Headlight_Reminder                            258\n",
       "Adjustable_Headrests                          250\n",
       "Gross_Vehicle_Weight                          595\n",
       "Airbags                                       132\n",
       "Door_Ajar_Warning                             143\n",
       "EBD_(Electronic_Brake-force_Distribution)     201\n",
       "Fasten_Seat_Belt_Warning                      190\n",
       "Gear_Shift_Reminder                           543\n",
       "Number_of_Airbags                             135\n",
       "Compression_Ratio                             917\n",
       "Adjustable_Steering_Column                    191\n",
       "Other_Specs                                  1266\n",
       "Other_specs                                  1213\n",
       "Parking_Assistance                            290\n",
       "Key_Off_Reminder                              340\n",
       "USB_Compatibility                             267\n",
       "Android_Auto                                 1103\n",
       "Apple_CarPlay                                1103\n",
       "Cigarette_Lighter                             682\n",
       "Infotainment_Screen                           462\n",
       "Multifunction_Steering_Wheel                  351\n",
       "Average_Speed                                 512\n",
       "EBA_(Electronic_Brake_Assist)                 690\n",
       "Seat_Height_Adjustment                        326\n",
       "Navigation_System                             593\n",
       "Second_Row_AC_Vents                           602\n",
       "Tyre_Pressure_Monitoring_System               936\n",
       "Rear_Center_Armrest                           559\n",
       "iPod_Compatibility                            663\n",
       "ESP_(Electronic_Stability_Program)            779\n",
       "Cooled_Glove_Box                              645\n",
       "Recommended_Tyre_Pressure                    1266\n",
       "Heated_Seats                                 1010\n",
       "Turbocharger                                  618\n",
       "ISOFIX_(Child-Seat_Mount)                     666\n",
       "Rain_Sensing_Wipers                           798\n",
       "Paddle_Shifters                               972\n",
       "Leather_Wrapped_Steering                      689\n",
       "Automatic_Headlamps                           774\n",
       "Engine_Type                                  1242\n",
       "ASR_/_Traction_Control                        834\n",
       "Cruise_Control                                727\n",
       "USB_Ports                                    1247\n",
       "Heads-Up_Display                             1225\n",
       "Welcome_Lights                               1207\n",
       "Battery                                      1263\n",
       "Electric_Range                               1259\n",
       "dtype: int64"
      ]
     },
     "execution_count": 8,
     "metadata": {},
     "output_type": "execute_result"
    }
   ],
   "source": [
    "data.isnull().sum(axis = 0)"
   ]
  },
  {
   "cell_type": "markdown",
   "id": "0e008768",
   "metadata": {},
   "source": [
    "##### Dropping all those columns which have more than 50 percent missing values since they won't be helpful in maintaining the accuracy of predictive analytics. Even if we fill them with mean or mode of the respective columns, the information will lack accuracy."
   ]
  },
  {
   "cell_type": "code",
   "execution_count": 9,
   "id": "fa456570",
   "metadata": {},
   "outputs": [],
   "source": [
    " data.drop(['Highway_Mileage', 'ARAI_Certified_Mileage_for_CNG','Front_Track','Rear_Track','Power_Seats','Start_/_Stop_Button','Extended_Warranty','Hill_Assist','3_Point_Seat-Belt_in_Middle_Rear_Seat','Ambient_Lightning','Cargo/Boot_Lights','Drive_Modes','High_Speed_Alert_System','Lane_Watch_Camera/_Side_Mirror_Camera','Passenger_Side_Seat-Belt_Reminder','Voice_Recognition','Walk_Away_Auto_Car_Lock','Compression_Ratio','Other_Specs','Other_specs','Android_Auto','Apple_CarPlay','EBA_(Electronic_Brake_Assist)','Tyre_Pressure_Monitoring_System','iPod_Compatibility','ESP_(Electronic_Stability_Program)','Recommended_Tyre_Pressure','Heated_Seats','ISOFIX_(Child-Seat_Mount)','Rain_Sensing_Wipers','Paddle_Shifters','Leather_Wrapped_Steering','Automatic_Headlamps','Engine_Type','ASR_/_Traction_Control','Cruise_Control','USB_Ports','Heads-Up_Display','Welcome_Lights','Battery','Electric_Range'], axis=1, inplace=True)"
   ]
  },
  {
   "cell_type": "code",
   "execution_count": 10,
   "id": "ae9ab1a3",
   "metadata": {},
   "outputs": [
    {
     "data": {
      "text/html": [
       "<div>\n",
       "<style scoped>\n",
       "    .dataframe tbody tr th:only-of-type {\n",
       "        vertical-align: middle;\n",
       "    }\n",
       "\n",
       "    .dataframe tbody tr th {\n",
       "        vertical-align: top;\n",
       "    }\n",
       "\n",
       "    .dataframe thead th {\n",
       "        text-align: right;\n",
       "    }\n",
       "</style>\n",
       "<table border=\"1\" class=\"dataframe\">\n",
       "  <thead>\n",
       "    <tr style=\"text-align: right;\">\n",
       "      <th></th>\n",
       "      <th>Unnamed: 0</th>\n",
       "      <th>Make</th>\n",
       "      <th>Model</th>\n",
       "      <th>Variant</th>\n",
       "      <th>Ex-Showroom_Price</th>\n",
       "      <th>Displacement</th>\n",
       "      <th>Cylinders</th>\n",
       "      <th>Valves_Per_Cylinder</th>\n",
       "      <th>Drivetrain</th>\n",
       "      <th>Cylinder_Configuration</th>\n",
       "      <th>...</th>\n",
       "      <th>Cigarette_Lighter</th>\n",
       "      <th>Infotainment_Screen</th>\n",
       "      <th>Multifunction_Steering_Wheel</th>\n",
       "      <th>Average_Speed</th>\n",
       "      <th>Seat_Height_Adjustment</th>\n",
       "      <th>Navigation_System</th>\n",
       "      <th>Second_Row_AC_Vents</th>\n",
       "      <th>Rear_Center_Armrest</th>\n",
       "      <th>Cooled_Glove_Box</th>\n",
       "      <th>Turbocharger</th>\n",
       "    </tr>\n",
       "  </thead>\n",
       "  <tbody>\n",
       "    <tr>\n",
       "      <th>0</th>\n",
       "      <td>0</td>\n",
       "      <td>Tata</td>\n",
       "      <td>Nano Genx</td>\n",
       "      <td>Xt</td>\n",
       "      <td>Rs. 2,92,667</td>\n",
       "      <td>624 cc</td>\n",
       "      <td>2.0</td>\n",
       "      <td>2.0</td>\n",
       "      <td>RWD (Rear Wheel Drive)</td>\n",
       "      <td>In-line</td>\n",
       "      <td>...</td>\n",
       "      <td>NaN</td>\n",
       "      <td>NaN</td>\n",
       "      <td>NaN</td>\n",
       "      <td>NaN</td>\n",
       "      <td>NaN</td>\n",
       "      <td>NaN</td>\n",
       "      <td>NaN</td>\n",
       "      <td>NaN</td>\n",
       "      <td>NaN</td>\n",
       "      <td>NaN</td>\n",
       "    </tr>\n",
       "    <tr>\n",
       "      <th>1</th>\n",
       "      <td>1</td>\n",
       "      <td>Tata</td>\n",
       "      <td>Nano Genx</td>\n",
       "      <td>Xe</td>\n",
       "      <td>Rs. 2,36,447</td>\n",
       "      <td>624 cc</td>\n",
       "      <td>2.0</td>\n",
       "      <td>2.0</td>\n",
       "      <td>RWD (Rear Wheel Drive)</td>\n",
       "      <td>In-line</td>\n",
       "      <td>...</td>\n",
       "      <td>NaN</td>\n",
       "      <td>NaN</td>\n",
       "      <td>NaN</td>\n",
       "      <td>NaN</td>\n",
       "      <td>NaN</td>\n",
       "      <td>NaN</td>\n",
       "      <td>NaN</td>\n",
       "      <td>NaN</td>\n",
       "      <td>NaN</td>\n",
       "      <td>NaN</td>\n",
       "    </tr>\n",
       "    <tr>\n",
       "      <th>2</th>\n",
       "      <td>2</td>\n",
       "      <td>Tata</td>\n",
       "      <td>Nano Genx</td>\n",
       "      <td>Emax Xm</td>\n",
       "      <td>Rs. 2,96,661</td>\n",
       "      <td>624 cc</td>\n",
       "      <td>2.0</td>\n",
       "      <td>2.0</td>\n",
       "      <td>RWD (Rear Wheel Drive)</td>\n",
       "      <td>In-line</td>\n",
       "      <td>...</td>\n",
       "      <td>NaN</td>\n",
       "      <td>NaN</td>\n",
       "      <td>NaN</td>\n",
       "      <td>NaN</td>\n",
       "      <td>NaN</td>\n",
       "      <td>NaN</td>\n",
       "      <td>NaN</td>\n",
       "      <td>NaN</td>\n",
       "      <td>NaN</td>\n",
       "      <td>NaN</td>\n",
       "    </tr>\n",
       "    <tr>\n",
       "      <th>3</th>\n",
       "      <td>3</td>\n",
       "      <td>Tata</td>\n",
       "      <td>Nano Genx</td>\n",
       "      <td>Xta</td>\n",
       "      <td>Rs. 3,34,768</td>\n",
       "      <td>624 cc</td>\n",
       "      <td>2.0</td>\n",
       "      <td>2.0</td>\n",
       "      <td>RWD (Rear Wheel Drive)</td>\n",
       "      <td>In-line</td>\n",
       "      <td>...</td>\n",
       "      <td>NaN</td>\n",
       "      <td>NaN</td>\n",
       "      <td>NaN</td>\n",
       "      <td>NaN</td>\n",
       "      <td>NaN</td>\n",
       "      <td>NaN</td>\n",
       "      <td>NaN</td>\n",
       "      <td>NaN</td>\n",
       "      <td>NaN</td>\n",
       "      <td>NaN</td>\n",
       "    </tr>\n",
       "    <tr>\n",
       "      <th>4</th>\n",
       "      <td>4</td>\n",
       "      <td>Tata</td>\n",
       "      <td>Nano Genx</td>\n",
       "      <td>Xm</td>\n",
       "      <td>Rs. 2,72,223</td>\n",
       "      <td>624 cc</td>\n",
       "      <td>2.0</td>\n",
       "      <td>2.0</td>\n",
       "      <td>RWD (Rear Wheel Drive)</td>\n",
       "      <td>In-line</td>\n",
       "      <td>...</td>\n",
       "      <td>NaN</td>\n",
       "      <td>NaN</td>\n",
       "      <td>NaN</td>\n",
       "      <td>NaN</td>\n",
       "      <td>NaN</td>\n",
       "      <td>NaN</td>\n",
       "      <td>NaN</td>\n",
       "      <td>NaN</td>\n",
       "      <td>NaN</td>\n",
       "      <td>NaN</td>\n",
       "    </tr>\n",
       "  </tbody>\n",
       "</table>\n",
       "<p>5 rows × 100 columns</p>\n",
       "</div>"
      ],
      "text/plain": [
       "   Unnamed: 0  Make      Model  Variant Ex-Showroom_Price Displacement  \\\n",
       "0           0  Tata  Nano Genx       Xt      Rs. 2,92,667       624 cc   \n",
       "1           1  Tata  Nano Genx       Xe      Rs. 2,36,447       624 cc   \n",
       "2           2  Tata  Nano Genx  Emax Xm      Rs. 2,96,661       624 cc   \n",
       "3           3  Tata  Nano Genx      Xta      Rs. 3,34,768       624 cc   \n",
       "4           4  Tata  Nano Genx       Xm      Rs. 2,72,223       624 cc   \n",
       "\n",
       "   Cylinders  Valves_Per_Cylinder              Drivetrain  \\\n",
       "0        2.0                  2.0  RWD (Rear Wheel Drive)   \n",
       "1        2.0                  2.0  RWD (Rear Wheel Drive)   \n",
       "2        2.0                  2.0  RWD (Rear Wheel Drive)   \n",
       "3        2.0                  2.0  RWD (Rear Wheel Drive)   \n",
       "4        2.0                  2.0  RWD (Rear Wheel Drive)   \n",
       "\n",
       "  Cylinder_Configuration  ... Cigarette_Lighter Infotainment_Screen  \\\n",
       "0                In-line  ...               NaN                 NaN   \n",
       "1                In-line  ...               NaN                 NaN   \n",
       "2                In-line  ...               NaN                 NaN   \n",
       "3                In-line  ...               NaN                 NaN   \n",
       "4                In-line  ...               NaN                 NaN   \n",
       "\n",
       "  Multifunction_Steering_Wheel Average_Speed Seat_Height_Adjustment  \\\n",
       "0                          NaN           NaN                    NaN   \n",
       "1                          NaN           NaN                    NaN   \n",
       "2                          NaN           NaN                    NaN   \n",
       "3                          NaN           NaN                    NaN   \n",
       "4                          NaN           NaN                    NaN   \n",
       "\n",
       "  Navigation_System Second_Row_AC_Vents Rear_Center_Armrest Cooled_Glove_Box  \\\n",
       "0               NaN                 NaN                 NaN              NaN   \n",
       "1               NaN                 NaN                 NaN              NaN   \n",
       "2               NaN                 NaN                 NaN              NaN   \n",
       "3               NaN                 NaN                 NaN              NaN   \n",
       "4               NaN                 NaN                 NaN              NaN   \n",
       "\n",
       "   Turbocharger  \n",
       "0           NaN  \n",
       "1           NaN  \n",
       "2           NaN  \n",
       "3           NaN  \n",
       "4           NaN  \n",
       "\n",
       "[5 rows x 100 columns]"
      ]
     },
     "execution_count": 10,
     "metadata": {},
     "output_type": "execute_result"
    }
   ],
   "source": [
    "data.head()"
   ]
  },
  {
   "cell_type": "code",
   "execution_count": 11,
   "id": "0d27701d",
   "metadata": {
    "scrolled": true
   },
   "outputs": [
    {
     "data": {
      "text/plain": [
       "Unnamed: 0                                     int64\n",
       "Make                                          object\n",
       "Model                                         object\n",
       "Variant                                       object\n",
       "Ex-Showroom_Price                             object\n",
       "Displacement                                  object\n",
       "Cylinders                                    float64\n",
       "Valves_Per_Cylinder                          float64\n",
       "Drivetrain                                    object\n",
       "Cylinder_Configuration                        object\n",
       "Emission_Norm                                 object\n",
       "Engine_Location                               object\n",
       "Fuel_System                                   object\n",
       "Fuel_Tank_Capacity                            object\n",
       "Fuel_Type                                     object\n",
       "Height                                        object\n",
       "Length                                        object\n",
       "Width                                         object\n",
       "Body_Type                                     object\n",
       "Doors                                        float64\n",
       "City_Mileage                                  object\n",
       "ARAI_Certified_Mileage                        object\n",
       "Kerb_Weight                                   object\n",
       "Gears                                         object\n",
       "Ground_Clearance                              object\n",
       "Front_Brakes                                  object\n",
       "Rear_Brakes                                   object\n",
       "Front_Suspension                              object\n",
       "Rear_Suspension                               object\n",
       "Front_Tyre_&_Rim                              object\n",
       "Rear_Tyre_&_Rim                               object\n",
       "Power_Steering                                object\n",
       "Power_Windows                                 object\n",
       "Keyless_Entry                                 object\n",
       "Power                                         object\n",
       "Torque                                        object\n",
       "Odometer                                      object\n",
       "Speedometer                                   object\n",
       "Tachometer                                    object\n",
       "Tripmeter                                     object\n",
       "Seating_Capacity                             float64\n",
       "Seats_Material                                object\n",
       "Type                                          object\n",
       "Wheelbase                                     object\n",
       "Wheels_Size                                   object\n",
       "12v_Power_Outlet                              object\n",
       "Audiosystem                                   object\n",
       "Aux-in_Compatibility                          object\n",
       "Average_Fuel_Consumption                      object\n",
       "Basic_Warranty                                object\n",
       "Bluetooth                                     object\n",
       "Boot-lid_Opener                               object\n",
       "Boot_Space                                    object\n",
       "CD_/_MP3_/_DVD_Player                         object\n",
       "Central_Locking                               object\n",
       "Child_Safety_Locks                            object\n",
       "Clock                                         object\n",
       "Cup_Holders                                   object\n",
       "Distance_to_Empty                             object\n",
       "Door_Pockets                                  object\n",
       "Engine_Malfunction_Light                      object\n",
       "FM_Radio                                      object\n",
       "Fuel-lid_Opener                               object\n",
       "Fuel_Gauge                                    object\n",
       "Handbrake                                     object\n",
       "Instrument_Console                            object\n",
       "Low_Fuel_Warning                              object\n",
       "Minimum_Turning_Radius                        object\n",
       "Multifunction_Display                         object\n",
       "Sun_Visor                                     object\n",
       "Third_Row_AC_Vents                            object\n",
       "Ventilation_System                            object\n",
       "Auto-Dimming_Rear-View_Mirror                 object\n",
       "Gear_Indicator                                object\n",
       "Engine_Immobilizer                            object\n",
       "Seat_Back_Pockets                             object\n",
       "ABS_(Anti-lock_Braking_System)                object\n",
       "Headlight_Reminder                            object\n",
       "Adjustable_Headrests                          object\n",
       "Gross_Vehicle_Weight                          object\n",
       "Airbags                                       object\n",
       "Door_Ajar_Warning                             object\n",
       "EBD_(Electronic_Brake-force_Distribution)     object\n",
       "Fasten_Seat_Belt_Warning                      object\n",
       "Gear_Shift_Reminder                           object\n",
       "Number_of_Airbags                            float64\n",
       "Adjustable_Steering_Column                    object\n",
       "Parking_Assistance                            object\n",
       "Key_Off_Reminder                              object\n",
       "USB_Compatibility                             object\n",
       "Cigarette_Lighter                             object\n",
       "Infotainment_Screen                           object\n",
       "Multifunction_Steering_Wheel                  object\n",
       "Average_Speed                                 object\n",
       "Seat_Height_Adjustment                        object\n",
       "Navigation_System                             object\n",
       "Second_Row_AC_Vents                           object\n",
       "Rear_Center_Armrest                           object\n",
       "Cooled_Glove_Box                              object\n",
       "Turbocharger                                  object\n",
       "dtype: object"
      ]
     },
     "execution_count": 11,
     "metadata": {},
     "output_type": "execute_result"
    }
   ],
   "source": [
    "data.dtypes"
   ]
  },
  {
   "cell_type": "markdown",
   "id": "66286cdb",
   "metadata": {},
   "source": [
    "##### Changing the data-types of price and displacement to float values."
   ]
  },
  {
   "cell_type": "code",
   "execution_count": 12,
   "id": "2db6f4df",
   "metadata": {},
   "outputs": [],
   "source": [
    "data['Ex-Showroom_Price'] = data['Ex-Showroom_Price'].replace('[\\\"Rs\"\\,\\.]', '', regex=True).astype(float)"
   ]
  },
  {
   "cell_type": "code",
   "execution_count": 13,
   "id": "65e57177",
   "metadata": {},
   "outputs": [],
   "source": [
    "data['Displacement'] = data['Displacement'].replace('[\\\"cc\"\\,\\.]', '', regex=True).astype(float)"
   ]
  },
  {
   "cell_type": "code",
   "execution_count": 14,
   "id": "8cd3b05a",
   "metadata": {},
   "outputs": [],
   "source": [
    "data['Height'] = data['Height'].replace('[\\\"mm\"\\,\\.]', '', regex=True).astype(float)"
   ]
  },
  {
   "cell_type": "code",
   "execution_count": 15,
   "id": "2f85b2b9",
   "metadata": {},
   "outputs": [],
   "source": [
    "data['Length'] = data['Length'].replace('[\\\"mm\"\\,\\.]', '', regex=True).astype(float)"
   ]
  },
  {
   "cell_type": "code",
   "execution_count": 16,
   "id": "9b8629e1",
   "metadata": {},
   "outputs": [],
   "source": [
    "data['Width'] = data['Width'].replace('[\\\"mm\"\\,\\.]', '', regex=True).astype(float)"
   ]
  },
  {
   "cell_type": "code",
   "execution_count": 17,
   "id": "488508f7",
   "metadata": {},
   "outputs": [],
   "source": [
    "data = data[data.City_Mileage != '12.5-12.7 km/litre']"
   ]
  },
  {
   "cell_type": "code",
   "execution_count": 18,
   "id": "4dd8a3c8",
   "metadata": {},
   "outputs": [
    {
     "name": "stderr",
     "output_type": "stream",
     "text": [
      "C:\\Users\\DHARAN~1\\AppData\\Local\\Temp/ipykernel_1744/3764973114.py:1: SettingWithCopyWarning: \n",
      "A value is trying to be set on a copy of a slice from a DataFrame.\n",
      "Try using .loc[row_indexer,col_indexer] = value instead\n",
      "\n",
      "See the caveats in the documentation: https://pandas.pydata.org/pandas-docs/stable/user_guide/indexing.html#returning-a-view-versus-a-copy\n",
      "  data['City_Mileage'] = data['City_Mileage'].replace('[\\\"km/litre\"\\?\\,]', '', regex=True).astype(float)\n"
     ]
    }
   ],
   "source": [
    "data['City_Mileage'] = data['City_Mileage'].replace('[\\\"km/litre\"\\?\\,]', '', regex=True).astype(float)"
   ]
  },
  {
   "cell_type": "code",
   "execution_count": 19,
   "id": "3df314e2",
   "metadata": {
    "scrolled": true
   },
   "outputs": [
    {
     "data": {
      "text/plain": [
       "Unnamed: 0                                     int64\n",
       "Make                                          object\n",
       "Model                                         object\n",
       "Variant                                       object\n",
       "Ex-Showroom_Price                            float64\n",
       "Displacement                                 float64\n",
       "Cylinders                                    float64\n",
       "Valves_Per_Cylinder                          float64\n",
       "Drivetrain                                    object\n",
       "Cylinder_Configuration                        object\n",
       "Emission_Norm                                 object\n",
       "Engine_Location                               object\n",
       "Fuel_System                                   object\n",
       "Fuel_Tank_Capacity                            object\n",
       "Fuel_Type                                     object\n",
       "Height                                       float64\n",
       "Length                                       float64\n",
       "Width                                        float64\n",
       "Body_Type                                     object\n",
       "Doors                                        float64\n",
       "City_Mileage                                 float64\n",
       "ARAI_Certified_Mileage                        object\n",
       "Kerb_Weight                                   object\n",
       "Gears                                         object\n",
       "Ground_Clearance                              object\n",
       "Front_Brakes                                  object\n",
       "Rear_Brakes                                   object\n",
       "Front_Suspension                              object\n",
       "Rear_Suspension                               object\n",
       "Front_Tyre_&_Rim                              object\n",
       "Rear_Tyre_&_Rim                               object\n",
       "Power_Steering                                object\n",
       "Power_Windows                                 object\n",
       "Keyless_Entry                                 object\n",
       "Power                                         object\n",
       "Torque                                        object\n",
       "Odometer                                      object\n",
       "Speedometer                                   object\n",
       "Tachometer                                    object\n",
       "Tripmeter                                     object\n",
       "Seating_Capacity                             float64\n",
       "Seats_Material                                object\n",
       "Type                                          object\n",
       "Wheelbase                                     object\n",
       "Wheels_Size                                   object\n",
       "12v_Power_Outlet                              object\n",
       "Audiosystem                                   object\n",
       "Aux-in_Compatibility                          object\n",
       "Average_Fuel_Consumption                      object\n",
       "Basic_Warranty                                object\n",
       "Bluetooth                                     object\n",
       "Boot-lid_Opener                               object\n",
       "Boot_Space                                    object\n",
       "CD_/_MP3_/_DVD_Player                         object\n",
       "Central_Locking                               object\n",
       "Child_Safety_Locks                            object\n",
       "Clock                                         object\n",
       "Cup_Holders                                   object\n",
       "Distance_to_Empty                             object\n",
       "Door_Pockets                                  object\n",
       "Engine_Malfunction_Light                      object\n",
       "FM_Radio                                      object\n",
       "Fuel-lid_Opener                               object\n",
       "Fuel_Gauge                                    object\n",
       "Handbrake                                     object\n",
       "Instrument_Console                            object\n",
       "Low_Fuel_Warning                              object\n",
       "Minimum_Turning_Radius                        object\n",
       "Multifunction_Display                         object\n",
       "Sun_Visor                                     object\n",
       "Third_Row_AC_Vents                            object\n",
       "Ventilation_System                            object\n",
       "Auto-Dimming_Rear-View_Mirror                 object\n",
       "Gear_Indicator                                object\n",
       "Engine_Immobilizer                            object\n",
       "Seat_Back_Pockets                             object\n",
       "ABS_(Anti-lock_Braking_System)                object\n",
       "Headlight_Reminder                            object\n",
       "Adjustable_Headrests                          object\n",
       "Gross_Vehicle_Weight                          object\n",
       "Airbags                                       object\n",
       "Door_Ajar_Warning                             object\n",
       "EBD_(Electronic_Brake-force_Distribution)     object\n",
       "Fasten_Seat_Belt_Warning                      object\n",
       "Gear_Shift_Reminder                           object\n",
       "Number_of_Airbags                            float64\n",
       "Adjustable_Steering_Column                    object\n",
       "Parking_Assistance                            object\n",
       "Key_Off_Reminder                              object\n",
       "USB_Compatibility                             object\n",
       "Cigarette_Lighter                             object\n",
       "Infotainment_Screen                           object\n",
       "Multifunction_Steering_Wheel                  object\n",
       "Average_Speed                                 object\n",
       "Seat_Height_Adjustment                        object\n",
       "Navigation_System                             object\n",
       "Second_Row_AC_Vents                           object\n",
       "Rear_Center_Armrest                           object\n",
       "Cooled_Glove_Box                              object\n",
       "Turbocharger                                  object\n",
       "dtype: object"
      ]
     },
     "execution_count": 19,
     "metadata": {},
     "output_type": "execute_result"
    }
   ],
   "source": [
    "data.dtypes"
   ]
  },
  {
   "cell_type": "code",
   "execution_count": 20,
   "id": "563bc67e",
   "metadata": {},
   "outputs": [
    {
     "name": "stderr",
     "output_type": "stream",
     "text": [
      "C:\\Users\\DHARAN~1\\AppData\\Local\\Temp/ipykernel_1744/2320901712.py:1: SettingWithCopyWarning: \n",
      "A value is trying to be set on a copy of a slice from a DataFrame.\n",
      "Try using .loc[row_indexer,col_indexer] = value instead\n",
      "\n",
      "See the caveats in the documentation: https://pandas.pydata.org/pandas-docs/stable/user_guide/indexing.html#returning-a-view-versus-a-copy\n",
      "  data['Fuel_Tank_Capacity'] = data['Fuel_Tank_Capacity'].replace('[\\\"litres\"\\,]', '', regex=True).astype(float)\n"
     ]
    }
   ],
   "source": [
    "data['Fuel_Tank_Capacity'] = data['Fuel_Tank_Capacity'].replace('[\\\"litres\"\\,]', '', regex=True).astype(float)"
   ]
  },
  {
   "cell_type": "markdown",
   "id": "de11d4d3",
   "metadata": {},
   "source": [
    "##### To ignore the warnings hereafter which are not going to hamper the analysis anyways."
   ]
  },
  {
   "cell_type": "code",
   "execution_count": 21,
   "id": "603e9a4b",
   "metadata": {},
   "outputs": [],
   "source": [
    "import warnings\n",
    "warnings.filterwarnings('ignore')"
   ]
  },
  {
   "cell_type": "code",
   "execution_count": 22,
   "id": "7cb9348b",
   "metadata": {},
   "outputs": [],
   "source": [
    "data['Fuel_Tank_Capacity'] = data['Fuel_Tank_Capacity'].replace('[\\\"litres\"\\,]', '', regex=True).astype(float)"
   ]
  },
  {
   "cell_type": "markdown",
   "id": "516d407e",
   "metadata": {},
   "source": [
    "##### Dropping those columns which have some exceptional values which hampers the process of data cleansing."
   ]
  },
  {
   "cell_type": "code",
   "execution_count": 23,
   "id": "8bcadad9",
   "metadata": {},
   "outputs": [],
   "source": [
    "data = data[data.ARAI_Certified_Mileage != '22.4-21.9 km/litre']"
   ]
  },
  {
   "cell_type": "code",
   "execution_count": 24,
   "id": "e0e79cff",
   "metadata": {},
   "outputs": [],
   "source": [
    "data['ARAI_Certified_Mileage'] = data['ARAI_Certified_Mileage'].replace('[\\\"km/litre\"\\\"kmpl km/litre\"\\,]', '', regex=True).astype(float)"
   ]
  },
  {
   "cell_type": "code",
   "execution_count": 25,
   "id": "88460707",
   "metadata": {},
   "outputs": [],
   "source": [
    "data = data[data.Kerb_Weight != '1016-1043 kg']"
   ]
  },
  {
   "cell_type": "code",
   "execution_count": 26,
   "id": "8009b4d3",
   "metadata": {},
   "outputs": [],
   "source": [
    "data = data[data.Kerb_Weight != '1053-1080 kg']"
   ]
  },
  {
   "cell_type": "code",
   "execution_count": 27,
   "id": "e45002c8",
   "metadata": {},
   "outputs": [],
   "source": [
    "data['Kerb_Weight'] = data['Kerb_Weight'].replace('[\\\"kg\"\\,]', '', regex=True).astype(float)"
   ]
  },
  {
   "cell_type": "code",
   "execution_count": 28,
   "id": "14a36113",
   "metadata": {},
   "outputs": [],
   "source": [
    "data = data[data.Gears != '7 Dual Clutch']"
   ]
  },
  {
   "cell_type": "code",
   "execution_count": 29,
   "id": "21ccdf70",
   "metadata": {},
   "outputs": [],
   "source": [
    "data = data[data.Gears != 'Single Speed Reduction Gear']"
   ]
  },
  {
   "cell_type": "code",
   "execution_count": 30,
   "id": "095a0039",
   "metadata": {},
   "outputs": [],
   "source": [
    "data['Gears'] = data['Gears'].replace('[\\\"kg\"\\,]', '', regex=True).astype(float)"
   ]
  },
  {
   "cell_type": "code",
   "execution_count": 31,
   "id": "2c8e6c40",
   "metadata": {},
   "outputs": [],
   "source": [
    "data['Ground_Clearance'] = data['Ground_Clearance'].replace('[\\\"mm\"\\,]', '', regex=True).astype(float)"
   ]
  },
  {
   "cell_type": "code",
   "execution_count": 32,
   "id": "1eedbb37",
   "metadata": {},
   "outputs": [],
   "source": [
    "data['Wheelbase'] = data['Wheelbase'].replace('[\\\"mm\"\\,]', '', regex=True).astype(float)"
   ]
  },
  {
   "cell_type": "code",
   "execution_count": 33,
   "id": "3366e615",
   "metadata": {},
   "outputs": [],
   "source": [
    "data = data[data.Boot_Space != '209(All3RowsUp).550(3rdRowFolded)&803(2ndRowand3rdRowFolded) litres']"
   ]
  },
  {
   "cell_type": "code",
   "execution_count": 34,
   "id": "c96d4478",
   "metadata": {},
   "outputs": [],
   "source": [
    "data['Boot_Space'] = data['Boot_Space'].replace('[\\\"litres\"\\,]', '', regex=True).astype(float)"
   ]
  },
  {
   "cell_type": "code",
   "execution_count": 35,
   "id": "3fcfb7e9",
   "metadata": {},
   "outputs": [],
   "source": [
    "data['Minimum_Turning_Radius'] = data['Minimum_Turning_Radius'].replace('[\\\"meter\"\\,]', '', regex=True).astype(float)"
   ]
  },
  {
   "cell_type": "code",
   "execution_count": 36,
   "id": "2dbe360b",
   "metadata": {
    "scrolled": true
   },
   "outputs": [
    {
     "data": {
      "text/plain": [
       "Unnamed: 0                                     int64\n",
       "Make                                          object\n",
       "Model                                         object\n",
       "Variant                                       object\n",
       "Ex-Showroom_Price                            float64\n",
       "Displacement                                 float64\n",
       "Cylinders                                    float64\n",
       "Valves_Per_Cylinder                          float64\n",
       "Drivetrain                                    object\n",
       "Cylinder_Configuration                        object\n",
       "Emission_Norm                                 object\n",
       "Engine_Location                               object\n",
       "Fuel_System                                   object\n",
       "Fuel_Tank_Capacity                           float64\n",
       "Fuel_Type                                     object\n",
       "Height                                       float64\n",
       "Length                                       float64\n",
       "Width                                        float64\n",
       "Body_Type                                     object\n",
       "Doors                                        float64\n",
       "City_Mileage                                 float64\n",
       "ARAI_Certified_Mileage                       float64\n",
       "Kerb_Weight                                  float64\n",
       "Gears                                        float64\n",
       "Ground_Clearance                             float64\n",
       "Front_Brakes                                  object\n",
       "Rear_Brakes                                   object\n",
       "Front_Suspension                              object\n",
       "Rear_Suspension                               object\n",
       "Front_Tyre_&_Rim                              object\n",
       "Rear_Tyre_&_Rim                               object\n",
       "Power_Steering                                object\n",
       "Power_Windows                                 object\n",
       "Keyless_Entry                                 object\n",
       "Power                                         object\n",
       "Torque                                        object\n",
       "Odometer                                      object\n",
       "Speedometer                                   object\n",
       "Tachometer                                    object\n",
       "Tripmeter                                     object\n",
       "Seating_Capacity                             float64\n",
       "Seats_Material                                object\n",
       "Type                                          object\n",
       "Wheelbase                                    float64\n",
       "Wheels_Size                                   object\n",
       "12v_Power_Outlet                              object\n",
       "Audiosystem                                   object\n",
       "Aux-in_Compatibility                          object\n",
       "Average_Fuel_Consumption                      object\n",
       "Basic_Warranty                                object\n",
       "Bluetooth                                     object\n",
       "Boot-lid_Opener                               object\n",
       "Boot_Space                                   float64\n",
       "CD_/_MP3_/_DVD_Player                         object\n",
       "Central_Locking                               object\n",
       "Child_Safety_Locks                            object\n",
       "Clock                                         object\n",
       "Cup_Holders                                   object\n",
       "Distance_to_Empty                             object\n",
       "Door_Pockets                                  object\n",
       "Engine_Malfunction_Light                      object\n",
       "FM_Radio                                      object\n",
       "Fuel-lid_Opener                               object\n",
       "Fuel_Gauge                                    object\n",
       "Handbrake                                     object\n",
       "Instrument_Console                            object\n",
       "Low_Fuel_Warning                              object\n",
       "Minimum_Turning_Radius                       float64\n",
       "Multifunction_Display                         object\n",
       "Sun_Visor                                     object\n",
       "Third_Row_AC_Vents                            object\n",
       "Ventilation_System                            object\n",
       "Auto-Dimming_Rear-View_Mirror                 object\n",
       "Gear_Indicator                                object\n",
       "Engine_Immobilizer                            object\n",
       "Seat_Back_Pockets                             object\n",
       "ABS_(Anti-lock_Braking_System)                object\n",
       "Headlight_Reminder                            object\n",
       "Adjustable_Headrests                          object\n",
       "Gross_Vehicle_Weight                          object\n",
       "Airbags                                       object\n",
       "Door_Ajar_Warning                             object\n",
       "EBD_(Electronic_Brake-force_Distribution)     object\n",
       "Fasten_Seat_Belt_Warning                      object\n",
       "Gear_Shift_Reminder                           object\n",
       "Number_of_Airbags                            float64\n",
       "Adjustable_Steering_Column                    object\n",
       "Parking_Assistance                            object\n",
       "Key_Off_Reminder                              object\n",
       "USB_Compatibility                             object\n",
       "Cigarette_Lighter                             object\n",
       "Infotainment_Screen                           object\n",
       "Multifunction_Steering_Wheel                  object\n",
       "Average_Speed                                 object\n",
       "Seat_Height_Adjustment                        object\n",
       "Navigation_System                             object\n",
       "Second_Row_AC_Vents                           object\n",
       "Rear_Center_Armrest                           object\n",
       "Cooled_Glove_Box                              object\n",
       "Turbocharger                                  object\n",
       "dtype: object"
      ]
     },
     "execution_count": 36,
     "metadata": {},
     "output_type": "execute_result"
    }
   ],
   "source": [
    "data.dtypes"
   ]
  },
  {
   "cell_type": "code",
   "execution_count": 37,
   "id": "568a16e0",
   "metadata": {},
   "outputs": [
    {
     "data": {
      "text/html": [
       "<div>\n",
       "<style scoped>\n",
       "    .dataframe tbody tr th:only-of-type {\n",
       "        vertical-align: middle;\n",
       "    }\n",
       "\n",
       "    .dataframe tbody tr th {\n",
       "        vertical-align: top;\n",
       "    }\n",
       "\n",
       "    .dataframe thead th {\n",
       "        text-align: right;\n",
       "    }\n",
       "</style>\n",
       "<table border=\"1\" class=\"dataframe\">\n",
       "  <thead>\n",
       "    <tr style=\"text-align: right;\">\n",
       "      <th></th>\n",
       "      <th>Unnamed: 0</th>\n",
       "      <th>Make</th>\n",
       "      <th>Model</th>\n",
       "      <th>Variant</th>\n",
       "      <th>Ex-Showroom_Price</th>\n",
       "      <th>Displacement</th>\n",
       "      <th>Cylinders</th>\n",
       "      <th>Valves_Per_Cylinder</th>\n",
       "      <th>Drivetrain</th>\n",
       "      <th>Cylinder_Configuration</th>\n",
       "      <th>...</th>\n",
       "      <th>Cigarette_Lighter</th>\n",
       "      <th>Infotainment_Screen</th>\n",
       "      <th>Multifunction_Steering_Wheel</th>\n",
       "      <th>Average_Speed</th>\n",
       "      <th>Seat_Height_Adjustment</th>\n",
       "      <th>Navigation_System</th>\n",
       "      <th>Second_Row_AC_Vents</th>\n",
       "      <th>Rear_Center_Armrest</th>\n",
       "      <th>Cooled_Glove_Box</th>\n",
       "      <th>Turbocharger</th>\n",
       "    </tr>\n",
       "  </thead>\n",
       "  <tbody>\n",
       "    <tr>\n",
       "      <th>0</th>\n",
       "      <td>0</td>\n",
       "      <td>Tata</td>\n",
       "      <td>Nano Genx</td>\n",
       "      <td>Xt</td>\n",
       "      <td>292667.0</td>\n",
       "      <td>624.0</td>\n",
       "      <td>2.0</td>\n",
       "      <td>2.0</td>\n",
       "      <td>RWD (Rear Wheel Drive)</td>\n",
       "      <td>In-line</td>\n",
       "      <td>...</td>\n",
       "      <td>NaN</td>\n",
       "      <td>NaN</td>\n",
       "      <td>NaN</td>\n",
       "      <td>NaN</td>\n",
       "      <td>NaN</td>\n",
       "      <td>NaN</td>\n",
       "      <td>NaN</td>\n",
       "      <td>NaN</td>\n",
       "      <td>NaN</td>\n",
       "      <td>NaN</td>\n",
       "    </tr>\n",
       "    <tr>\n",
       "      <th>1</th>\n",
       "      <td>1</td>\n",
       "      <td>Tata</td>\n",
       "      <td>Nano Genx</td>\n",
       "      <td>Xe</td>\n",
       "      <td>236447.0</td>\n",
       "      <td>624.0</td>\n",
       "      <td>2.0</td>\n",
       "      <td>2.0</td>\n",
       "      <td>RWD (Rear Wheel Drive)</td>\n",
       "      <td>In-line</td>\n",
       "      <td>...</td>\n",
       "      <td>NaN</td>\n",
       "      <td>NaN</td>\n",
       "      <td>NaN</td>\n",
       "      <td>NaN</td>\n",
       "      <td>NaN</td>\n",
       "      <td>NaN</td>\n",
       "      <td>NaN</td>\n",
       "      <td>NaN</td>\n",
       "      <td>NaN</td>\n",
       "      <td>NaN</td>\n",
       "    </tr>\n",
       "    <tr>\n",
       "      <th>2</th>\n",
       "      <td>2</td>\n",
       "      <td>Tata</td>\n",
       "      <td>Nano Genx</td>\n",
       "      <td>Emax Xm</td>\n",
       "      <td>296661.0</td>\n",
       "      <td>624.0</td>\n",
       "      <td>2.0</td>\n",
       "      <td>2.0</td>\n",
       "      <td>RWD (Rear Wheel Drive)</td>\n",
       "      <td>In-line</td>\n",
       "      <td>...</td>\n",
       "      <td>NaN</td>\n",
       "      <td>NaN</td>\n",
       "      <td>NaN</td>\n",
       "      <td>NaN</td>\n",
       "      <td>NaN</td>\n",
       "      <td>NaN</td>\n",
       "      <td>NaN</td>\n",
       "      <td>NaN</td>\n",
       "      <td>NaN</td>\n",
       "      <td>NaN</td>\n",
       "    </tr>\n",
       "    <tr>\n",
       "      <th>3</th>\n",
       "      <td>3</td>\n",
       "      <td>Tata</td>\n",
       "      <td>Nano Genx</td>\n",
       "      <td>Xta</td>\n",
       "      <td>334768.0</td>\n",
       "      <td>624.0</td>\n",
       "      <td>2.0</td>\n",
       "      <td>2.0</td>\n",
       "      <td>RWD (Rear Wheel Drive)</td>\n",
       "      <td>In-line</td>\n",
       "      <td>...</td>\n",
       "      <td>NaN</td>\n",
       "      <td>NaN</td>\n",
       "      <td>NaN</td>\n",
       "      <td>NaN</td>\n",
       "      <td>NaN</td>\n",
       "      <td>NaN</td>\n",
       "      <td>NaN</td>\n",
       "      <td>NaN</td>\n",
       "      <td>NaN</td>\n",
       "      <td>NaN</td>\n",
       "    </tr>\n",
       "    <tr>\n",
       "      <th>4</th>\n",
       "      <td>4</td>\n",
       "      <td>Tata</td>\n",
       "      <td>Nano Genx</td>\n",
       "      <td>Xm</td>\n",
       "      <td>272223.0</td>\n",
       "      <td>624.0</td>\n",
       "      <td>2.0</td>\n",
       "      <td>2.0</td>\n",
       "      <td>RWD (Rear Wheel Drive)</td>\n",
       "      <td>In-line</td>\n",
       "      <td>...</td>\n",
       "      <td>NaN</td>\n",
       "      <td>NaN</td>\n",
       "      <td>NaN</td>\n",
       "      <td>NaN</td>\n",
       "      <td>NaN</td>\n",
       "      <td>NaN</td>\n",
       "      <td>NaN</td>\n",
       "      <td>NaN</td>\n",
       "      <td>NaN</td>\n",
       "      <td>NaN</td>\n",
       "    </tr>\n",
       "  </tbody>\n",
       "</table>\n",
       "<p>5 rows × 100 columns</p>\n",
       "</div>"
      ],
      "text/plain": [
       "   Unnamed: 0  Make      Model  Variant  Ex-Showroom_Price  Displacement  \\\n",
       "0           0  Tata  Nano Genx       Xt           292667.0         624.0   \n",
       "1           1  Tata  Nano Genx       Xe           236447.0         624.0   \n",
       "2           2  Tata  Nano Genx  Emax Xm           296661.0         624.0   \n",
       "3           3  Tata  Nano Genx      Xta           334768.0         624.0   \n",
       "4           4  Tata  Nano Genx       Xm           272223.0         624.0   \n",
       "\n",
       "   Cylinders  Valves_Per_Cylinder              Drivetrain  \\\n",
       "0        2.0                  2.0  RWD (Rear Wheel Drive)   \n",
       "1        2.0                  2.0  RWD (Rear Wheel Drive)   \n",
       "2        2.0                  2.0  RWD (Rear Wheel Drive)   \n",
       "3        2.0                  2.0  RWD (Rear Wheel Drive)   \n",
       "4        2.0                  2.0  RWD (Rear Wheel Drive)   \n",
       "\n",
       "  Cylinder_Configuration  ... Cigarette_Lighter Infotainment_Screen  \\\n",
       "0                In-line  ...               NaN                 NaN   \n",
       "1                In-line  ...               NaN                 NaN   \n",
       "2                In-line  ...               NaN                 NaN   \n",
       "3                In-line  ...               NaN                 NaN   \n",
       "4                In-line  ...               NaN                 NaN   \n",
       "\n",
       "  Multifunction_Steering_Wheel  Average_Speed Seat_Height_Adjustment  \\\n",
       "0                          NaN            NaN                    NaN   \n",
       "1                          NaN            NaN                    NaN   \n",
       "2                          NaN            NaN                    NaN   \n",
       "3                          NaN            NaN                    NaN   \n",
       "4                          NaN            NaN                    NaN   \n",
       "\n",
       "   Navigation_System  Second_Row_AC_Vents  Rear_Center_Armrest  \\\n",
       "0                NaN                  NaN                  NaN   \n",
       "1                NaN                  NaN                  NaN   \n",
       "2                NaN                  NaN                  NaN   \n",
       "3                NaN                  NaN                  NaN   \n",
       "4                NaN                  NaN                  NaN   \n",
       "\n",
       "  Cooled_Glove_Box  Turbocharger  \n",
       "0              NaN           NaN  \n",
       "1              NaN           NaN  \n",
       "2              NaN           NaN  \n",
       "3              NaN           NaN  \n",
       "4              NaN           NaN  \n",
       "\n",
       "[5 rows x 100 columns]"
      ]
     },
     "execution_count": 37,
     "metadata": {},
     "output_type": "execute_result"
    }
   ],
   "source": [
    "data.head()"
   ]
  },
  {
   "cell_type": "markdown",
   "id": "bf6ee02d",
   "metadata": {},
   "source": [
    "##### Checking the number of unique values in columns. Correcting typos and invalid entries saves us from the issue arising due to high cardinality as well as the misleading information these typos can generate. "
   ]
  },
  {
   "cell_type": "code",
   "execution_count": 38,
   "id": "30cf6ea6",
   "metadata": {},
   "outputs": [
    {
     "name": "stdout",
     "output_type": "stream",
     "text": [
      "['RWD (Rear Wheel Drive)' 'FWD (Front Wheel Drive)'\n",
      " 'AWD (All Wheel Drive)' '4WD' nan]\n"
     ]
    }
   ],
   "source": [
    "print(data.Drivetrain.unique())"
   ]
  },
  {
   "cell_type": "code",
   "execution_count": 39,
   "id": "09757f72",
   "metadata": {},
   "outputs": [],
   "source": [
    "data['Drivetrain']=data['Drivetrain'].replace('4WD','FWD')"
   ]
  },
  {
   "cell_type": "code",
   "execution_count": 40,
   "id": "ab0dc9e1",
   "metadata": {},
   "outputs": [
    {
     "name": "stdout",
     "output_type": "stream",
     "text": [
      "['In-line' 'V' 'Flat' 'W' nan]\n"
     ]
    }
   ],
   "source": [
    "print(data.Cylinder_Configuration.unique())"
   ]
  },
  {
   "cell_type": "code",
   "execution_count": 41,
   "id": "917695bf",
   "metadata": {},
   "outputs": [],
   "source": [
    "data['Cylinder_Configuration']=data['Cylinder_Configuration'].replace('W','In-line')"
   ]
  },
  {
   "cell_type": "markdown",
   "id": "ead99c43",
   "metadata": {},
   "source": [
    "### Generating heatmap to check the levels of collinearity among all the numerical variables. "
   ]
  },
  {
   "cell_type": "code",
   "execution_count": 42,
   "id": "a02cc3e3",
   "metadata": {},
   "outputs": [
    {
     "data": {
      "text/plain": [
       "<AxesSubplot:>"
      ]
     },
     "execution_count": 42,
     "metadata": {},
     "output_type": "execute_result"
    },
    {
     "data": {
      "image/png": "[encoded data removed]",
      "text/plain": [
       "<Figure size 1440x864 with 2 Axes>"
      ]
     },
     "metadata": {},
     "output_type": "display_data"
    }
   ],
   "source": [
    "plt.figure(figsize=(20,12))\n",
    "\n",
    "# Generate the heatmap\n",
    "seaborn.heatmap(data.corr(),cmap='YlGnBu', annot=True)"
   ]
  },
  {
   "cell_type": "markdown",
   "id": "d7aace5e",
   "metadata": {},
   "source": [
    "##### We can see that both 'Wheelbase' and 'Length' share high levels of collinearity i.e. one of them can be easily calculated from the other. That is why we create a new column 'Length_new' which contains the average of the two columns and then we drop these two columns."
   ]
  },
  {
   "cell_type": "code",
   "execution_count": 43,
   "id": "e559bbef",
   "metadata": {},
   "outputs": [
    {
     "data": {
      "text/html": [
       "<div>\n",
       "<style scoped>\n",
       "    .dataframe tbody tr th:only-of-type {\n",
       "        vertical-align: middle;\n",
       "    }\n",
       "\n",
       "    .dataframe tbody tr th {\n",
       "        vertical-align: top;\n",
       "    }\n",
       "\n",
       "    .dataframe thead th {\n",
       "        text-align: right;\n",
       "    }\n",
       "</style>\n",
       "<table border=\"1\" class=\"dataframe\">\n",
       "  <thead>\n",
       "    <tr style=\"text-align: right;\">\n",
       "      <th></th>\n",
       "      <th>Length_new</th>\n",
       "      <th>Wheelbase</th>\n",
       "      <th>Length</th>\n",
       "    </tr>\n",
       "  </thead>\n",
       "  <tbody>\n",
       "    <tr>\n",
       "      <th>0</th>\n",
       "      <td>2697.0</td>\n",
       "      <td>2230.0</td>\n",
       "      <td>3164.0</td>\n",
       "    </tr>\n",
       "    <tr>\n",
       "      <th>1</th>\n",
       "      <td>2697.0</td>\n",
       "      <td>2230.0</td>\n",
       "      <td>3164.0</td>\n",
       "    </tr>\n",
       "    <tr>\n",
       "      <th>2</th>\n",
       "      <td>2697.0</td>\n",
       "      <td>2230.0</td>\n",
       "      <td>3164.0</td>\n",
       "    </tr>\n",
       "    <tr>\n",
       "      <th>3</th>\n",
       "      <td>2697.0</td>\n",
       "      <td>2230.0</td>\n",
       "      <td>3164.0</td>\n",
       "    </tr>\n",
       "    <tr>\n",
       "      <th>4</th>\n",
       "      <td>2697.0</td>\n",
       "      <td>2230.0</td>\n",
       "      <td>3164.0</td>\n",
       "    </tr>\n",
       "  </tbody>\n",
       "</table>\n",
       "</div>"
      ],
      "text/plain": [
       "   Length_new  Wheelbase  Length\n",
       "0      2697.0     2230.0  3164.0\n",
       "1      2697.0     2230.0  3164.0\n",
       "2      2697.0     2230.0  3164.0\n",
       "3      2697.0     2230.0  3164.0\n",
       "4      2697.0     2230.0  3164.0"
      ]
     },
     "execution_count": 43,
     "metadata": {},
     "output_type": "execute_result"
    }
   ],
   "source": [
    "data['Length_new']=data[['Wheelbase', 'Length']].mean(axis=1)\n",
    "data[['Length_new','Wheelbase', 'Length']].head()"
   ]
  },
  {
   "cell_type": "code",
   "execution_count": 44,
   "id": "7581048f",
   "metadata": {},
   "outputs": [
    {
     "data": {
      "text/html": [
       "<div>\n",
       "<style scoped>\n",
       "    .dataframe tbody tr th:only-of-type {\n",
       "        vertical-align: middle;\n",
       "    }\n",
       "\n",
       "    .dataframe tbody tr th {\n",
       "        vertical-align: top;\n",
       "    }\n",
       "\n",
       "    .dataframe thead th {\n",
       "        text-align: right;\n",
       "    }\n",
       "</style>\n",
       "<table border=\"1\" class=\"dataframe\">\n",
       "  <thead>\n",
       "    <tr style=\"text-align: right;\">\n",
       "      <th></th>\n",
       "      <th>Unnamed: 0</th>\n",
       "      <th>Make</th>\n",
       "      <th>Model</th>\n",
       "      <th>Variant</th>\n",
       "      <th>Ex-Showroom_Price</th>\n",
       "      <th>Displacement</th>\n",
       "      <th>Cylinders</th>\n",
       "      <th>Valves_Per_Cylinder</th>\n",
       "      <th>Drivetrain</th>\n",
       "      <th>Cylinder_Configuration</th>\n",
       "      <th>...</th>\n",
       "      <th>Infotainment_Screen</th>\n",
       "      <th>Multifunction_Steering_Wheel</th>\n",
       "      <th>Average_Speed</th>\n",
       "      <th>Seat_Height_Adjustment</th>\n",
       "      <th>Navigation_System</th>\n",
       "      <th>Second_Row_AC_Vents</th>\n",
       "      <th>Rear_Center_Armrest</th>\n",
       "      <th>Cooled_Glove_Box</th>\n",
       "      <th>Turbocharger</th>\n",
       "      <th>Length_new</th>\n",
       "    </tr>\n",
       "  </thead>\n",
       "  <tbody>\n",
       "    <tr>\n",
       "      <th>0</th>\n",
       "      <td>0</td>\n",
       "      <td>Tata</td>\n",
       "      <td>Nano Genx</td>\n",
       "      <td>Xt</td>\n",
       "      <td>292667.0</td>\n",
       "      <td>624.0</td>\n",
       "      <td>2.0</td>\n",
       "      <td>2.0</td>\n",
       "      <td>RWD (Rear Wheel Drive)</td>\n",
       "      <td>In-line</td>\n",
       "      <td>...</td>\n",
       "      <td>NaN</td>\n",
       "      <td>NaN</td>\n",
       "      <td>NaN</td>\n",
       "      <td>NaN</td>\n",
       "      <td>NaN</td>\n",
       "      <td>NaN</td>\n",
       "      <td>NaN</td>\n",
       "      <td>NaN</td>\n",
       "      <td>NaN</td>\n",
       "      <td>2697.0</td>\n",
       "    </tr>\n",
       "    <tr>\n",
       "      <th>1</th>\n",
       "      <td>1</td>\n",
       "      <td>Tata</td>\n",
       "      <td>Nano Genx</td>\n",
       "      <td>Xe</td>\n",
       "      <td>236447.0</td>\n",
       "      <td>624.0</td>\n",
       "      <td>2.0</td>\n",
       "      <td>2.0</td>\n",
       "      <td>RWD (Rear Wheel Drive)</td>\n",
       "      <td>In-line</td>\n",
       "      <td>...</td>\n",
       "      <td>NaN</td>\n",
       "      <td>NaN</td>\n",
       "      <td>NaN</td>\n",
       "      <td>NaN</td>\n",
       "      <td>NaN</td>\n",
       "      <td>NaN</td>\n",
       "      <td>NaN</td>\n",
       "      <td>NaN</td>\n",
       "      <td>NaN</td>\n",
       "      <td>2697.0</td>\n",
       "    </tr>\n",
       "    <tr>\n",
       "      <th>2</th>\n",
       "      <td>2</td>\n",
       "      <td>Tata</td>\n",
       "      <td>Nano Genx</td>\n",
       "      <td>Emax Xm</td>\n",
       "      <td>296661.0</td>\n",
       "      <td>624.0</td>\n",
       "      <td>2.0</td>\n",
       "      <td>2.0</td>\n",
       "      <td>RWD (Rear Wheel Drive)</td>\n",
       "      <td>In-line</td>\n",
       "      <td>...</td>\n",
       "      <td>NaN</td>\n",
       "      <td>NaN</td>\n",
       "      <td>NaN</td>\n",
       "      <td>NaN</td>\n",
       "      <td>NaN</td>\n",
       "      <td>NaN</td>\n",
       "      <td>NaN</td>\n",
       "      <td>NaN</td>\n",
       "      <td>NaN</td>\n",
       "      <td>2697.0</td>\n",
       "    </tr>\n",
       "    <tr>\n",
       "      <th>3</th>\n",
       "      <td>3</td>\n",
       "      <td>Tata</td>\n",
       "      <td>Nano Genx</td>\n",
       "      <td>Xta</td>\n",
       "      <td>334768.0</td>\n",
       "      <td>624.0</td>\n",
       "      <td>2.0</td>\n",
       "      <td>2.0</td>\n",
       "      <td>RWD (Rear Wheel Drive)</td>\n",
       "      <td>In-line</td>\n",
       "      <td>...</td>\n",
       "      <td>NaN</td>\n",
       "      <td>NaN</td>\n",
       "      <td>NaN</td>\n",
       "      <td>NaN</td>\n",
       "      <td>NaN</td>\n",
       "      <td>NaN</td>\n",
       "      <td>NaN</td>\n",
       "      <td>NaN</td>\n",
       "      <td>NaN</td>\n",
       "      <td>2697.0</td>\n",
       "    </tr>\n",
       "    <tr>\n",
       "      <th>4</th>\n",
       "      <td>4</td>\n",
       "      <td>Tata</td>\n",
       "      <td>Nano Genx</td>\n",
       "      <td>Xm</td>\n",
       "      <td>272223.0</td>\n",
       "      <td>624.0</td>\n",
       "      <td>2.0</td>\n",
       "      <td>2.0</td>\n",
       "      <td>RWD (Rear Wheel Drive)</td>\n",
       "      <td>In-line</td>\n",
       "      <td>...</td>\n",
       "      <td>NaN</td>\n",
       "      <td>NaN</td>\n",
       "      <td>NaN</td>\n",
       "      <td>NaN</td>\n",
       "      <td>NaN</td>\n",
       "      <td>NaN</td>\n",
       "      <td>NaN</td>\n",
       "      <td>NaN</td>\n",
       "      <td>NaN</td>\n",
       "      <td>2697.0</td>\n",
       "    </tr>\n",
       "  </tbody>\n",
       "</table>\n",
       "<p>5 rows × 99 columns</p>\n",
       "</div>"
      ],
      "text/plain": [
       "   Unnamed: 0  Make      Model  Variant  Ex-Showroom_Price  Displacement  \\\n",
       "0           0  Tata  Nano Genx       Xt           292667.0         624.0   \n",
       "1           1  Tata  Nano Genx       Xe           236447.0         624.0   \n",
       "2           2  Tata  Nano Genx  Emax Xm           296661.0         624.0   \n",
       "3           3  Tata  Nano Genx      Xta           334768.0         624.0   \n",
       "4           4  Tata  Nano Genx       Xm           272223.0         624.0   \n",
       "\n",
       "   Cylinders  Valves_Per_Cylinder              Drivetrain  \\\n",
       "0        2.0                  2.0  RWD (Rear Wheel Drive)   \n",
       "1        2.0                  2.0  RWD (Rear Wheel Drive)   \n",
       "2        2.0                  2.0  RWD (Rear Wheel Drive)   \n",
       "3        2.0                  2.0  RWD (Rear Wheel Drive)   \n",
       "4        2.0                  2.0  RWD (Rear Wheel Drive)   \n",
       "\n",
       "  Cylinder_Configuration  ... Infotainment_Screen  \\\n",
       "0                In-line  ...                 NaN   \n",
       "1                In-line  ...                 NaN   \n",
       "2                In-line  ...                 NaN   \n",
       "3                In-line  ...                 NaN   \n",
       "4                In-line  ...                 NaN   \n",
       "\n",
       "  Multifunction_Steering_Wheel Average_Speed  Seat_Height_Adjustment  \\\n",
       "0                          NaN           NaN                     NaN   \n",
       "1                          NaN           NaN                     NaN   \n",
       "2                          NaN           NaN                     NaN   \n",
       "3                          NaN           NaN                     NaN   \n",
       "4                          NaN           NaN                     NaN   \n",
       "\n",
       "  Navigation_System  Second_Row_AC_Vents  Rear_Center_Armrest  \\\n",
       "0               NaN                  NaN                  NaN   \n",
       "1               NaN                  NaN                  NaN   \n",
       "2               NaN                  NaN                  NaN   \n",
       "3               NaN                  NaN                  NaN   \n",
       "4               NaN                  NaN                  NaN   \n",
       "\n",
       "  Cooled_Glove_Box  Turbocharger  Length_new  \n",
       "0              NaN           NaN      2697.0  \n",
       "1              NaN           NaN      2697.0  \n",
       "2              NaN           NaN      2697.0  \n",
       "3              NaN           NaN      2697.0  \n",
       "4              NaN           NaN      2697.0  \n",
       "\n",
       "[5 rows x 99 columns]"
      ]
     },
     "execution_count": 44,
     "metadata": {},
     "output_type": "execute_result"
    }
   ],
   "source": [
    "data.drop(['Wheelbase', 'Length'], axis =1 , inplace=True)\n",
    "data.head()"
   ]
  },
  {
   "cell_type": "code",
   "execution_count": 45,
   "id": "5a6842a8",
   "metadata": {},
   "outputs": [
    {
     "name": "stdout",
     "output_type": "stream",
     "text": [
      "['BS IV' 'BS 6' nan 'BS III' 'BS VI']\n"
     ]
    }
   ],
   "source": [
    "print(data.Emission_Norm.unique())"
   ]
  },
  {
   "cell_type": "code",
   "execution_count": 46,
   "id": "1f035847",
   "metadata": {},
   "outputs": [],
   "source": [
    "data['Emission_Norm']=data['Emission_Norm'].replace('BS 6','BS VI')"
   ]
  },
  {
   "cell_type": "code",
   "execution_count": 47,
   "id": "6c603d11",
   "metadata": {},
   "outputs": [
    {
     "name": "stdout",
     "output_type": "stream",
     "text": [
      "['Rear, Transverse' 'Front, Transverse' 'Front, Longitudinal' nan\n",
      " 'Rear Mid, Transverse' 'Mid, Longitudinal' 'Mid, Transverse'\n",
      " 'Rear, Longitudinal']\n"
     ]
    }
   ],
   "source": [
    "print(data.Engine_Location.unique())"
   ]
  },
  {
   "cell_type": "code",
   "execution_count": 48,
   "id": "ea71324e",
   "metadata": {},
   "outputs": [
    {
     "name": "stdout",
     "output_type": "stream",
     "text": [
      "['Injection' 'PGM - Fi' nan]\n"
     ]
    }
   ],
   "source": [
    "print(data.Fuel_System.unique())"
   ]
  },
  {
   "cell_type": "code",
   "execution_count": 49,
   "id": "d980b592",
   "metadata": {},
   "outputs": [
    {
     "name": "stdout",
     "output_type": "stream",
     "text": [
      "['Petrol' 'CNG' 'Diesel' 'CNG + Petrol' 'Hybrid' 'Electric']\n"
     ]
    }
   ],
   "source": [
    "print(data.Fuel_Type.unique())"
   ]
  },
  {
   "cell_type": "code",
   "execution_count": 50,
   "id": "4e5490ce",
   "metadata": {},
   "outputs": [
    {
     "name": "stdout",
     "output_type": "stream",
     "text": [
      "['Hatchback' 'MPV' 'MUV' 'SUV' 'Sedan' 'Crossover' nan 'Coupe'\n",
      " 'Convertible' 'Sports, Hatchback' 'Sedan, Coupe' 'Sports'\n",
      " 'Crossover, SUV' 'SUV, Crossover' 'Sedan, Crossover'\n",
      " 'Sports, Convertible' 'Pick-up' 'Coupe, Convertible']\n"
     ]
    }
   ],
   "source": [
    "print(data.Body_Type.unique())"
   ]
  },
  {
   "cell_type": "code",
   "execution_count": 51,
   "id": "64da0e1b",
   "metadata": {},
   "outputs": [
    {
     "name": "stdout",
     "output_type": "stream",
     "text": [
      "['Drum' nan 'Ventilated Disc' 'Solid Disc']\n"
     ]
    }
   ],
   "source": [
    "print(data.Rear_Brakes.unique())"
   ]
  },
  {
   "cell_type": "markdown",
   "id": "0bbb6ee9",
   "metadata": {},
   "source": [
    "##### Gathering the variables showing very low correlation with the price so that they can be plotted and their relations can be checked. Since these show very low levels of correlation with the price factor and doesn't even matter much in terms of business perspective, we eventually drop them to reduce the levels of multidimensionality."
   ]
  },
  {
   "cell_type": "code",
   "execution_count": 52,
   "id": "afcf4e39",
   "metadata": {},
   "outputs": [],
   "source": [
    "low_corr=['Height','Minimum_Turning_Radius','Boot_Space','Seating_Capacity','Doors','Valves_Per_Cylinder','Ex-Showroom_Price']"
   ]
  },
  {
   "cell_type": "code",
   "execution_count": 53,
   "id": "120a4d2d",
   "metadata": {},
   "outputs": [
    {
     "data": {
      "text/plain": [
       "<seaborn.axisgrid.PairGrid at 0x1b5f72c0460>"
      ]
     },
     "execution_count": 53,
     "metadata": {},
     "output_type": "execute_result"
    },
    {
     "data": {
      "image/png": "[encoded data removed]",
      "text/plain": [
       "<Figure size 1260x1260 with 56 Axes>"
      ]
     },
     "metadata": {},
     "output_type": "display_data"
    }
   ],
   "source": [
    "seaborn.pairplot(data[low_corr])"
   ]
  },
  {
   "cell_type": "markdown",
   "id": "be130950",
   "metadata": {},
   "source": [
    "##### Checking the relations of the high correlation factors with the price."
   ]
  },
  {
   "cell_type": "code",
   "execution_count": 54,
   "id": "066b4cb1",
   "metadata": {},
   "outputs": [],
   "source": [
    "high_corr=['Displacement','Cylinders','Ex-Showroom_Price']"
   ]
  },
  {
   "cell_type": "code",
   "execution_count": 55,
   "id": "fc5c59fb",
   "metadata": {},
   "outputs": [
    {
     "data": {
      "text/plain": [
       "<seaborn.axisgrid.PairGrid at 0x1b59ddc4c40>"
      ]
     },
     "execution_count": 55,
     "metadata": {},
     "output_type": "execute_result"
    },
    {
     "data": {
      "image/png": "[encoded data removed]",
      "text/plain": [
       "<Figure size 540x540 with 12 Axes>"
      ]
     },
     "metadata": {},
     "output_type": "display_data"
    }
   ],
   "source": [
    "seaborn.pairplot(data[high_corr])"
   ]
  },
  {
   "cell_type": "markdown",
   "id": "1c47424d",
   "metadata": {},
   "source": [
    "##### Dropping the low correlation variables"
   ]
  },
  {
   "cell_type": "code",
   "execution_count": 56,
   "id": "1a01be09",
   "metadata": {},
   "outputs": [],
   "source": [
    "data.drop(['Height','Minimum_Turning_Radius','Boot_Space','Seating_Capacity','Doors','Valves_Per_Cylinder'],axis=1,inplace=True)"
   ]
  },
  {
   "cell_type": "code",
   "execution_count": 57,
   "id": "70915e0e",
   "metadata": {
    "scrolled": true
   },
   "outputs": [
    {
     "name": "stdout",
     "output_type": "stream",
     "text": [
      "<class 'pandas.core.frame.DataFrame'>\n",
      "Int64Index: 1251 entries, 0 to 1275\n",
      "Data columns (total 93 columns):\n",
      " #   Column                                     Non-Null Count  Dtype  \n",
      "---  ------                                     --------------  -----  \n",
      " 0   Unnamed: 0                                 1251 non-null   int64  \n",
      " 1   Make                                       1177 non-null   object \n",
      " 2   Model                                      1251 non-null   object \n",
      " 3   Variant                                    1251 non-null   object \n",
      " 4   Ex-Showroom_Price                          1251 non-null   float64\n",
      " 5   Displacement                               1240 non-null   float64\n",
      " 6   Cylinders                                  1186 non-null   float64\n",
      " 7   Drivetrain                                 1244 non-null   object \n",
      " 8   Cylinder_Configuration                     1239 non-null   object \n",
      " 9   Emission_Norm                              1241 non-null   object \n",
      " 10  Engine_Location                            1208 non-null   object \n",
      " 11  Fuel_System                                1244 non-null   object \n",
      " 12  Fuel_Tank_Capacity                         1185 non-null   float64\n",
      " 13  Fuel_Type                                  1251 non-null   object \n",
      " 14  Width                                      1239 non-null   float64\n",
      " 15  Body_Type                                  1245 non-null   object \n",
      " 16  City_Mileage                               720 non-null    float64\n",
      " 17  ARAI_Certified_Mileage                     1139 non-null   float64\n",
      " 18  Kerb_Weight                                887 non-null    float64\n",
      " 19  Gears                                      1146 non-null   float64\n",
      " 20  Ground_Clearance                           986 non-null    float64\n",
      " 21  Front_Brakes                               1226 non-null   object \n",
      " 22  Rear_Brakes                                1226 non-null   object \n",
      " 23  Front_Suspension                           1192 non-null   object \n",
      " 24  Rear_Suspension                            1205 non-null   object \n",
      " 25  Front_Tyre_&_Rim                           1203 non-null   object \n",
      " 26  Rear_Tyre_&_Rim                            1204 non-null   object \n",
      " 27  Power_Steering                             1195 non-null   object \n",
      " 28  Power_Windows                              1155 non-null   object \n",
      " 29  Keyless_Entry                              978 non-null    object \n",
      " 30  Power                                      1251 non-null   object \n",
      " 31  Torque                                     1249 non-null   object \n",
      " 32  Odometer                                   1209 non-null   object \n",
      " 33  Speedometer                                1207 non-null   object \n",
      " 34  Tachometer                                 1239 non-null   object \n",
      " 35  Tripmeter                                  1192 non-null   object \n",
      " 36  Seats_Material                             1240 non-null   object \n",
      " 37  Type                                       1250 non-null   object \n",
      " 38  Wheels_Size                                1196 non-null   object \n",
      " 39  12v_Power_Outlet                           1098 non-null   object \n",
      " 40  Audiosystem                                1208 non-null   object \n",
      " 41  Aux-in_Compatibility                       974 non-null    object \n",
      " 42  Average_Fuel_Consumption                   920 non-null    object \n",
      " 43  Basic_Warranty                             816 non-null    object \n",
      " 44  Bluetooth                                  962 non-null    object \n",
      " 45  Boot-lid_Opener                            1238 non-null   object \n",
      " 46  CD_/_MP3_/_DVD_Player                      953 non-null    object \n",
      " 47  Central_Locking                            1105 non-null   object \n",
      " 48  Child_Safety_Locks                         1180 non-null   object \n",
      " 49  Clock                                      1118 non-null   object \n",
      " 50  Cup_Holders                                1211 non-null   object \n",
      " 51  Distance_to_Empty                          1009 non-null   object \n",
      " 52  Door_Pockets                               1135 non-null   object \n",
      " 53  Engine_Malfunction_Light                   1135 non-null   object \n",
      " 54  FM_Radio                                   1007 non-null   object \n",
      " 55  Fuel-lid_Opener                            1238 non-null   object \n",
      " 56  Fuel_Gauge                                 1213 non-null   object \n",
      " 57  Handbrake                                  1194 non-null   object \n",
      " 58  Instrument_Console                         1238 non-null   object \n",
      " 59  Low_Fuel_Warning                           1216 non-null   object \n",
      " 60  Multifunction_Display                      1163 non-null   object \n",
      " 61  Sun_Visor                                  1190 non-null   object \n",
      " 62  Third_Row_AC_Vents                         897 non-null    object \n",
      " 63  Ventilation_System                         1217 non-null   object \n",
      " 64  Auto-Dimming_Rear-View_Mirror              641 non-null    object \n",
      " 65  Gear_Indicator                             758 non-null    object \n",
      " 66  Engine_Immobilizer                         1192 non-null   object \n",
      " 67  Seat_Back_Pockets                          820 non-null    object \n",
      " 68  ABS_(Anti-lock_Braking_System)             1120 non-null   object \n",
      " 69  Headlight_Reminder                         994 non-null    object \n",
      " 70  Adjustable_Headrests                       1002 non-null   object \n",
      " 71  Gross_Vehicle_Weight                       670 non-null    object \n",
      " 72  Airbags                                    1120 non-null   object \n",
      " 73  Door_Ajar_Warning                          1109 non-null   object \n",
      " 74  EBD_(Electronic_Brake-force_Distribution)  1051 non-null   object \n",
      " 75  Fasten_Seat_Belt_Warning                   1063 non-null   object \n",
      " 76  Gear_Shift_Reminder                        714 non-null    object \n",
      " 77  Number_of_Airbags                          1117 non-null   float64\n",
      " 78  Adjustable_Steering_Column                 1061 non-null   object \n",
      " 79  Parking_Assistance                         965 non-null    object \n",
      " 80  Key_Off_Reminder                           924 non-null    object \n",
      " 81  USB_Compatibility                          989 non-null    object \n",
      " 82  Cigarette_Lighter                          592 non-null    object \n",
      " 83  Infotainment_Screen                        798 non-null    object \n",
      " 84  Multifunction_Steering_Wheel               903 non-null    object \n",
      " 85  Average_Speed                              756 non-null    object \n",
      " 86  Seat_Height_Adjustment                     937 non-null    object \n",
      " 87  Navigation_System                          668 non-null    object \n",
      " 88  Second_Row_AC_Vents                        665 non-null    object \n",
      " 89  Rear_Center_Armrest                        696 non-null    object \n",
      " 90  Cooled_Glove_Box                           629 non-null    object \n",
      " 91  Turbocharger                               652 non-null    object \n",
      " 92  Length_new                                 1251 non-null   float64\n",
      "dtypes: float64(12), int64(1), object(80)\n",
      "memory usage: 918.7+ KB\n"
     ]
    }
   ],
   "source": [
    "data.info()"
   ]
  },
  {
   "cell_type": "code",
   "execution_count": 58,
   "id": "89b8d8f8",
   "metadata": {},
   "outputs": [],
   "source": [
    "correlation=data[\"Ground_Clearance\"].corr(data[\"Ex-Showroom_Price\"])"
   ]
  },
  {
   "cell_type": "code",
   "execution_count": 59,
   "id": "8449a5b2",
   "metadata": {},
   "outputs": [
    {
     "name": "stdout",
     "output_type": "stream",
     "text": [
      "-0.01931763739742366\n"
     ]
    }
   ],
   "source": [
    "print(correlation)"
   ]
  },
  {
   "cell_type": "markdown",
   "id": "b23de0d2",
   "metadata": {},
   "source": [
    "##### Since the correlation of 'Ground Clearance' with price is really low, we drop this column."
   ]
  },
  {
   "cell_type": "code",
   "execution_count": 60,
   "id": "1267ab69",
   "metadata": {},
   "outputs": [],
   "source": [
    "data.drop(['Ground_Clearance'],axis=1,inplace=True)"
   ]
  },
  {
   "cell_type": "code",
   "execution_count": 61,
   "id": "03c26a50",
   "metadata": {},
   "outputs": [
    {
     "name": "stdout",
     "output_type": "stream",
     "text": [
      "['Tata' 'Datsun' 'Renault' 'Maruti Suzuki' 'Hyundai' 'Premier' 'Toyota'\n",
      " 'Nissan' 'Volkswagen' 'Ford' 'Mahindra' 'Fiat' 'Honda' 'Jeep' 'Isuzu'\n",
      " 'Skoda' 'Audi' nan 'Dc' 'Mini' 'Volvo' 'Jaguar' 'Bmw' 'Land Rover'\n",
      " 'Porsche' 'Lexus' 'Maserati' 'Lamborghini' 'Bentley' 'Ferrari'\n",
      " 'Aston Martin' 'Bugatti' 'Bajaj' 'Icml' 'Force' 'Mg' 'Kia'\n",
      " 'Land Rover Rover' 'Mitsubishi' 'Maruti Suzuki R']\n"
     ]
    }
   ],
   "source": [
    "print(data.Make.unique())"
   ]
  },
  {
   "cell_type": "code",
   "execution_count": 62,
   "id": "6bb3e631",
   "metadata": {},
   "outputs": [],
   "source": [
    "data['Make']=data['Make'].replace('Land Rover Rover','Land Rover')"
   ]
  },
  {
   "cell_type": "markdown",
   "id": "10261028",
   "metadata": {},
   "source": [
    "##### From the data we can see that 'City_Mileage' and 'ARAI_Certified_Mileage' are heavily related to each other. So, instead of keeping the two which would add on to multidimensionality, we drop the columns and instead replace them with one column containing the mean of the two."
   ]
  },
  {
   "cell_type": "code",
   "execution_count": 63,
   "id": "bfd32fab",
   "metadata": {},
   "outputs": [
    {
     "data": {
      "text/html": [
       "<div>\n",
       "<style scoped>\n",
       "    .dataframe tbody tr th:only-of-type {\n",
       "        vertical-align: middle;\n",
       "    }\n",
       "\n",
       "    .dataframe tbody tr th {\n",
       "        vertical-align: top;\n",
       "    }\n",
       "\n",
       "    .dataframe thead th {\n",
       "        text-align: right;\n",
       "    }\n",
       "</style>\n",
       "<table border=\"1\" class=\"dataframe\">\n",
       "  <thead>\n",
       "    <tr style=\"text-align: right;\">\n",
       "      <th></th>\n",
       "      <th>Average_Mileage</th>\n",
       "      <th>City_Mileage</th>\n",
       "      <th>ARAI_Certified_Mileage</th>\n",
       "    </tr>\n",
       "  </thead>\n",
       "  <tbody>\n",
       "    <tr>\n",
       "      <th>0</th>\n",
       "      <td>23.60</td>\n",
       "      <td>23.6</td>\n",
       "      <td>23.6</td>\n",
       "    </tr>\n",
       "    <tr>\n",
       "      <th>1</th>\n",
       "      <td>23.60</td>\n",
       "      <td>23.6</td>\n",
       "      <td>23.6</td>\n",
       "    </tr>\n",
       "    <tr>\n",
       "      <th>2</th>\n",
       "      <td>NaN</td>\n",
       "      <td>NaN</td>\n",
       "      <td>NaN</td>\n",
       "    </tr>\n",
       "    <tr>\n",
       "      <th>3</th>\n",
       "      <td>22.75</td>\n",
       "      <td>23.6</td>\n",
       "      <td>21.9</td>\n",
       "    </tr>\n",
       "    <tr>\n",
       "      <th>4</th>\n",
       "      <td>23.60</td>\n",
       "      <td>23.6</td>\n",
       "      <td>23.6</td>\n",
       "    </tr>\n",
       "  </tbody>\n",
       "</table>\n",
       "</div>"
      ],
      "text/plain": [
       "   Average_Mileage  City_Mileage  ARAI_Certified_Mileage\n",
       "0            23.60          23.6                    23.6\n",
       "1            23.60          23.6                    23.6\n",
       "2              NaN           NaN                     NaN\n",
       "3            22.75          23.6                    21.9\n",
       "4            23.60          23.6                    23.6"
      ]
     },
     "execution_count": 63,
     "metadata": {},
     "output_type": "execute_result"
    }
   ],
   "source": [
    "data['Average_Mileage']=data[['City_Mileage', 'ARAI_Certified_Mileage']].mean(axis=1)\n",
    "data[['Average_Mileage','City_Mileage', 'ARAI_Certified_Mileage']].head()"
   ]
  },
  {
   "cell_type": "code",
   "execution_count": 64,
   "id": "15857db0",
   "metadata": {},
   "outputs": [],
   "source": [
    "data.drop(['City_Mileage', 'ARAI_Certified_Mileage'], axis =1 , inplace=True)\n"
   ]
  },
  {
   "cell_type": "code",
   "execution_count": 65,
   "id": "a0791dac",
   "metadata": {
    "scrolled": true
   },
   "outputs": [
    {
     "data": {
      "text/plain": [
       "Unnamed: 0                                     0\n",
       "Make                                          74\n",
       "Model                                          0\n",
       "Variant                                        0\n",
       "Ex-Showroom_Price                              0\n",
       "Displacement                                  11\n",
       "Cylinders                                     65\n",
       "Drivetrain                                     7\n",
       "Cylinder_Configuration                        12\n",
       "Emission_Norm                                 10\n",
       "Engine_Location                               43\n",
       "Fuel_System                                    7\n",
       "Fuel_Tank_Capacity                            66\n",
       "Fuel_Type                                      0\n",
       "Width                                         12\n",
       "Body_Type                                      6\n",
       "Kerb_Weight                                  364\n",
       "Gears                                        105\n",
       "Front_Brakes                                  25\n",
       "Rear_Brakes                                   25\n",
       "Front_Suspension                              59\n",
       "Rear_Suspension                               46\n",
       "Front_Tyre_&_Rim                              48\n",
       "Rear_Tyre_&_Rim                               47\n",
       "Power_Steering                                56\n",
       "Power_Windows                                 96\n",
       "Keyless_Entry                                273\n",
       "Power                                          0\n",
       "Torque                                         2\n",
       "Odometer                                      42\n",
       "Speedometer                                   44\n",
       "Tachometer                                    12\n",
       "Tripmeter                                     59\n",
       "Seats_Material                                11\n",
       "Type                                           1\n",
       "Wheels_Size                                   55\n",
       "12v_Power_Outlet                             153\n",
       "Audiosystem                                   43\n",
       "Aux-in_Compatibility                         277\n",
       "Average_Fuel_Consumption                     331\n",
       "Basic_Warranty                               435\n",
       "Bluetooth                                    289\n",
       "Boot-lid_Opener                               13\n",
       "CD_/_MP3_/_DVD_Player                        298\n",
       "Central_Locking                              146\n",
       "Child_Safety_Locks                            71\n",
       "Clock                                        133\n",
       "Cup_Holders                                   40\n",
       "Distance_to_Empty                            242\n",
       "Door_Pockets                                 116\n",
       "Engine_Malfunction_Light                     116\n",
       "FM_Radio                                     244\n",
       "Fuel-lid_Opener                               13\n",
       "Fuel_Gauge                                    38\n",
       "Handbrake                                     57\n",
       "Instrument_Console                            13\n",
       "Low_Fuel_Warning                              35\n",
       "Multifunction_Display                         88\n",
       "Sun_Visor                                     61\n",
       "Third_Row_AC_Vents                           354\n",
       "Ventilation_System                            34\n",
       "Auto-Dimming_Rear-View_Mirror                610\n",
       "Gear_Indicator                               493\n",
       "Engine_Immobilizer                            59\n",
       "Seat_Back_Pockets                            431\n",
       "ABS_(Anti-lock_Braking_System)               131\n",
       "Headlight_Reminder                           257\n",
       "Adjustable_Headrests                         249\n",
       "Gross_Vehicle_Weight                         581\n",
       "Airbags                                      131\n",
       "Door_Ajar_Warning                            142\n",
       "EBD_(Electronic_Brake-force_Distribution)    200\n",
       "Fasten_Seat_Belt_Warning                     188\n",
       "Gear_Shift_Reminder                          537\n",
       "Number_of_Airbags                            134\n",
       "Adjustable_Steering_Column                   190\n",
       "Parking_Assistance                           286\n",
       "Key_Off_Reminder                             327\n",
       "USB_Compatibility                            262\n",
       "Cigarette_Lighter                            659\n",
       "Infotainment_Screen                          453\n",
       "Multifunction_Steering_Wheel                 348\n",
       "Average_Speed                                495\n",
       "Seat_Height_Adjustment                       314\n",
       "Navigation_System                            583\n",
       "Second_Row_AC_Vents                          586\n",
       "Rear_Center_Armrest                          555\n",
       "Cooled_Glove_Box                             622\n",
       "Turbocharger                                 599\n",
       "Length_new                                     0\n",
       "Average_Mileage                               95\n",
       "dtype: int64"
      ]
     },
     "execution_count": 65,
     "metadata": {},
     "output_type": "execute_result"
    }
   ],
   "source": [
    "data.isnull().sum(axis = 0)"
   ]
  },
  {
   "cell_type": "markdown",
   "id": "e9d57a98",
   "metadata": {},
   "source": [
    "##### These two below dropped columns are redundant features as well as has quite high number of missing values"
   ]
  },
  {
   "cell_type": "code",
   "execution_count": 66,
   "id": "bde54e47",
   "metadata": {},
   "outputs": [],
   "source": [
    "data.drop(['Cigarette_Lighter', 'Cooled_Glove_Box'], axis =1 , inplace=True)\n"
   ]
  },
  {
   "cell_type": "markdown",
   "id": "a7701fb7",
   "metadata": {},
   "source": [
    "##### Similarly we are also dropping all those columns which have either all invalid entries or are redundant features considering the practical scenario"
   ]
  },
  {
   "cell_type": "code",
   "execution_count": 67,
   "id": "a7eee365",
   "metadata": {},
   "outputs": [],
   "source": [
    "data.drop([ 'Average_Speed'], axis =1 , inplace=True)\n"
   ]
  },
  {
   "cell_type": "code",
   "execution_count": 68,
   "id": "7acb9a09",
   "metadata": {},
   "outputs": [],
   "source": [
    "data.drop(['Infotainment_Screen', 'Turbocharger','Rear_Center_Armrest','Second_Row_AC_Vents','Navigation_System'], axis =1 , inplace=True)\n"
   ]
  },
  {
   "cell_type": "code",
   "execution_count": 69,
   "id": "bacd7ddd",
   "metadata": {},
   "outputs": [],
   "source": [
    "data.drop(['Gear_Shift_Reminder', 'Gross_Vehicle_Weight'], axis =1 , inplace=True)\n"
   ]
  },
  {
   "cell_type": "code",
   "execution_count": 70,
   "id": "d958a267",
   "metadata": {},
   "outputs": [],
   "source": [
    "data.drop([ 'Gear_Indicator'], axis =1 , inplace=True)\n"
   ]
  },
  {
   "cell_type": "code",
   "execution_count": 71,
   "id": "0d01061b",
   "metadata": {},
   "outputs": [],
   "source": [
    "data.drop([ 'Auto-Dimming_Rear-View_Mirror'], axis =1 , inplace=True)\n"
   ]
  },
  {
   "cell_type": "code",
   "execution_count": 72,
   "id": "1d933165",
   "metadata": {},
   "outputs": [
    {
     "name": "stdout",
     "output_type": "stream",
     "text": [
      "[nan 'Rear sensors' 'Rear sensors with camera'\n",
      " 'Front and rear sensors with camera' 'Yes'\n",
      " 'Front & rear sensors with 360 degree view' 'Front sensors, Rear sensors'\n",
      " 'Rear sensors, Rear sensors with camera' 'Rear sensors, Front sensors'\n",
      " 'Front and rear sensors with camera, Front & rear sensors with 360 degree view']\n"
     ]
    }
   ],
   "source": [
    "print(data.Parking_Assistance.unique())"
   ]
  },
  {
   "cell_type": "code",
   "execution_count": 73,
   "id": "ed845945",
   "metadata": {},
   "outputs": [
    {
     "data": {
      "text/plain": [
       "Rear sensors with camera                                                         364\n",
       "Rear sensors                                                                     266\n",
       "Front and rear sensors with camera                                               180\n",
       "Front & rear sensors with 360 degree view                                        119\n",
       "Yes                                                                               15\n",
       "Rear sensors, Rear sensors with camera                                            13\n",
       "Front sensors, Rear sensors                                                        5\n",
       "Front and rear sensors with camera, Front & rear sensors with 360 degree view      2\n",
       "Rear sensors, Front sensors                                                        1\n",
       "Name: Parking_Assistance, dtype: int64"
      ]
     },
     "execution_count": 73,
     "metadata": {},
     "output_type": "execute_result"
    }
   ],
   "source": [
    "data['Parking_Assistance'].value_counts()"
   ]
  },
  {
   "cell_type": "markdown",
   "id": "60662170",
   "metadata": {},
   "source": [
    "##### Many values tagged as unique are basically the same values in reality, so we are grouping them here so as to reduce the cardinality."
   ]
  },
  {
   "cell_type": "code",
   "execution_count": 74,
   "id": "26662cfa",
   "metadata": {},
   "outputs": [],
   "source": [
    "data['Parking_Assistance']=data['Parking_Assistance'].replace('Rear sensors with camera','Rear sensors')\n",
    "data['Parking_Assistance']=data['Parking_Assistance'].replace('Front and rear sensors with camera','Front and rear sensors')\n",
    "data['Parking_Assistance']=data['Parking_Assistance'].replace('Front & rear sensors with 360 degree view','Front and rear sensors')\n",
    "data['Parking_Assistance']=data['Parking_Assistance'].replace('Yes','Front and rear sensors')\n",
    "data['Parking_Assistance']=data['Parking_Assistance'].replace('Rear sensors, Rear sensors with camera','Rear sensors')\n",
    "data['Parking_Assistance']=data['Parking_Assistance'].replace('Front sensors, Rear sensors','Front and rear sensors')\n",
    "data['Parking_Assistance']=data['Parking_Assistance'].replace('Front and rear sensors with camera, Front & rear sensors with 360 degree view','Front and rear sensors')\n",
    "data['Parking_Assistance']=data['Parking_Assistance'].replace('Rear sensors, Front sensors','Front and rear sensors')\n"
   ]
  },
  {
   "cell_type": "code",
   "execution_count": 75,
   "id": "7aee1ee9",
   "metadata": {},
   "outputs": [
    {
     "data": {
      "text/plain": [
       "Rear sensors              643\n",
       "Front and rear sensors    322\n",
       "Name: Parking_Assistance, dtype: int64"
      ]
     },
     "execution_count": 75,
     "metadata": {},
     "output_type": "execute_result"
    }
   ],
   "source": [
    "data['Parking_Assistance'].value_counts()"
   ]
  },
  {
   "cell_type": "code",
   "execution_count": 76,
   "id": "666ba2c7",
   "metadata": {},
   "outputs": [
    {
     "data": {
      "text/plain": [
       "Yes     963\n",
       "2       196\n",
       "1        26\n",
       "1, 2      7\n",
       "Name: Tripmeter, dtype: int64"
      ]
     },
     "execution_count": 76,
     "metadata": {},
     "output_type": "execute_result"
    }
   ],
   "source": [
    "data['Tripmeter'].value_counts()"
   ]
  },
  {
   "cell_type": "code",
   "execution_count": 77,
   "id": "e969cf01",
   "metadata": {},
   "outputs": [
    {
     "data": {
      "text/plain": [
       "Analog                  921\n",
       "Digital                 110\n",
       "Yes                     110\n",
       "Not on offer             70\n",
       "Analog, Digital          22\n",
       "Digital, Analog           5\n",
       "Analog, Not on offer      1\n",
       "Name: Tachometer, dtype: int64"
      ]
     },
     "execution_count": 77,
     "metadata": {},
     "output_type": "execute_result"
    }
   ],
   "source": [
    "data['Tachometer'].value_counts()"
   ]
  },
  {
   "cell_type": "code",
   "execution_count": 78,
   "id": "96b478bb",
   "metadata": {},
   "outputs": [
    {
     "data": {
      "text/plain": [
       "Analog             960\n",
       "Digital            109\n",
       "Yes                 79\n",
       "Analog, Digital     57\n",
       "Digital, Analog      2\n",
       "Name: Speedometer, dtype: int64"
      ]
     },
     "execution_count": 78,
     "metadata": {},
     "output_type": "execute_result"
    }
   ],
   "source": [
    "data['Speedometer'].value_counts()"
   ]
  },
  {
   "cell_type": "code",
   "execution_count": 79,
   "id": "bc2ef8e1",
   "metadata": {},
   "outputs": [
    {
     "data": {
      "text/plain": [
       "Digital            1035\n",
       "Analog               90\n",
       "Yes                  83\n",
       "Digital, Analog       1\n",
       "Name: Odometer, dtype: int64"
      ]
     },
     "execution_count": 79,
     "metadata": {},
     "output_type": "execute_result"
    }
   ],
   "source": [
    "data['Odometer'].value_counts()"
   ]
  },
  {
   "cell_type": "markdown",
   "id": "834ad2e7",
   "metadata": {},
   "source": [
    "##### Considering the real world scenario, almost all the modern cars have these features on their dashboard, which again is a compulsory feature in cars. So, having different columns for categories which club together to correlate for the same factor is unnecessary."
   ]
  },
  {
   "cell_type": "code",
   "execution_count": 80,
   "id": "6c9be382",
   "metadata": {},
   "outputs": [],
   "source": [
    "data.drop([ 'Speedometer','Odometer','Tachometer','Tripmeter'], axis =1 , inplace=True)\n"
   ]
  },
  {
   "cell_type": "markdown",
   "id": "b29e7e4b",
   "metadata": {},
   "source": [
    "##### To maintain the simplicity of the model and distinctive analysis we are dropping these columns as they have too many unique features and this quite high cardinality."
   ]
  },
  {
   "cell_type": "code",
   "execution_count": 81,
   "id": "13dbe372",
   "metadata": {},
   "outputs": [],
   "source": [
    "data.drop([ 'Model','Variant'], axis =1 , inplace=True)\n"
   ]
  },
  {
   "cell_type": "code",
   "execution_count": 82,
   "id": "edaee927",
   "metadata": {},
   "outputs": [],
   "source": [
    "data.drop([ 'Boot-lid_Opener','Wheels_Size'], axis =1 , inplace=True)\n"
   ]
  },
  {
   "cell_type": "code",
   "execution_count": 83,
   "id": "339b52eb",
   "metadata": {
    "scrolled": true
   },
   "outputs": [
    {
     "data": {
      "text/plain": [
       "CD Player with USB & Aux-in            425\n",
       "CD/MP3/DVD Player with USB & Aux-in    369\n",
       "Not on offer                           211\n",
       "DVD Player with USB & Aux-in           100\n",
       "USB & Aux-in                            82\n",
       "CD/MP3 Player                           18\n",
       "CD Player with Aux-in                    2\n",
       "CD Player with USB Only                  1\n",
       "Name: Audiosystem, dtype: int64"
      ]
     },
     "execution_count": 83,
     "metadata": {},
     "output_type": "execute_result"
    }
   ],
   "source": [
    "data['Audiosystem'].value_counts()"
   ]
  },
  {
   "cell_type": "markdown",
   "id": "58cb3bf9",
   "metadata": {},
   "source": [
    "##### All the three columns dropped below come under the same umbrella category of 'Audiosystem'. "
   ]
  },
  {
   "cell_type": "code",
   "execution_count": 84,
   "id": "1f5af248",
   "metadata": {},
   "outputs": [],
   "source": [
    "data.drop([ 'CD_/_MP3_/_DVD_Player'], axis =1 , inplace=True)\n"
   ]
  },
  {
   "cell_type": "code",
   "execution_count": 85,
   "id": "17c4d08a",
   "metadata": {},
   "outputs": [],
   "source": [
    "data.drop([ 'Aux-in_Compatibility','USB_Compatibility'], axis =1 , inplace=True)\n"
   ]
  },
  {
   "cell_type": "code",
   "execution_count": 86,
   "id": "230e4366",
   "metadata": {},
   "outputs": [],
   "source": [
    "data['Audiosystem']=data['Audiosystem'].replace('CD Player with USB & Aux-in','CD/MP3/DVD, USB, Aux-in')\n",
    "data['Audiosystem']=data['Audiosystem'].replace('CD/MP3/DVD Player with USB & Aux-in','CD/MP3/DVD, USB, Aux-in')\n",
    "data['Audiosystem']=data['Audiosystem'].replace('DVD Player with USB & Aux-in','CD/MP3/DVD, USB, Aux-in')\n",
    "data['Audiosystem']=data['Audiosystem'].replace('CD/MP3 Player','CD/MP3/DVD')\n",
    "data['Audiosystem']=data['Audiosystem'].replace('USB & Aux-in','CD/MP3/DVD, USB, Aux-in')\n",
    "data['Audiosystem']=data['Audiosystem'].replace('CD Player with Aux-in','CD/MP3/DVD, Aux-in')\n",
    "data['Audiosystem']=data['Audiosystem'].replace('CD Player with USB Only','CD/MP3/DVD, USB')\n"
   ]
  },
  {
   "cell_type": "code",
   "execution_count": 87,
   "id": "d935bedd",
   "metadata": {},
   "outputs": [
    {
     "data": {
      "text/plain": [
       "CD/MP3/DVD, USB, Aux-in    976\n",
       "Not on offer               211\n",
       "CD/MP3/DVD                  18\n",
       "CD/MP3/DVD, Aux-in           2\n",
       "CD/MP3/DVD, USB              1\n",
       "Name: Audiosystem, dtype: int64"
      ]
     },
     "execution_count": 87,
     "metadata": {},
     "output_type": "execute_result"
    }
   ],
   "source": [
    "data['Audiosystem'].value_counts()"
   ]
  },
  {
   "cell_type": "markdown",
   "id": "77e98f43",
   "metadata": {},
   "source": [
    "##### Dropping all those columns which have only one unique feature and thus in no way contribute towards creating variations in customer segments and thus are unnecessary for further analysis. "
   ]
  },
  {
   "cell_type": "code",
   "execution_count": 88,
   "id": "a55bb45b",
   "metadata": {},
   "outputs": [
    {
     "data": {
      "text/plain": [
       "Yes    962\n",
       "Name: Bluetooth, dtype: int64"
      ]
     },
     "execution_count": 88,
     "metadata": {},
     "output_type": "execute_result"
    }
   ],
   "source": [
    "data['Bluetooth'].value_counts()"
   ]
  },
  {
   "cell_type": "code",
   "execution_count": 89,
   "id": "2329ed96",
   "metadata": {},
   "outputs": [],
   "source": [
    "data.drop([ 'Bluetooth'], axis =1 , inplace=True)\n"
   ]
  },
  {
   "cell_type": "code",
   "execution_count": 90,
   "id": "af7ccb95",
   "metadata": {},
   "outputs": [],
   "source": [
    "data.drop([ 'Torque'], axis =1 , inplace=True)\n"
   ]
  },
  {
   "cell_type": "code",
   "execution_count": 91,
   "id": "34e107cf",
   "metadata": {},
   "outputs": [
    {
     "data": {
      "text/plain": [
       "Front & Rear           687\n",
       "Front                  296\n",
       "Yes                    144\n",
       "Front, Front & Rear      8\n",
       "Name: Door_Pockets, dtype: int64"
      ]
     },
     "execution_count": 91,
     "metadata": {},
     "output_type": "execute_result"
    }
   ],
   "source": [
    "data['Door_Pockets'].value_counts()"
   ]
  },
  {
   "cell_type": "code",
   "execution_count": 92,
   "id": "290dbe68",
   "metadata": {},
   "outputs": [
    {
     "data": {
      "text/plain": [
       "Driver & Front Passenger    1152\n",
       "Driver Only                   23\n",
       "Co-Driver Only                15\n",
       "Name: Sun_Visor, dtype: int64"
      ]
     },
     "execution_count": 92,
     "metadata": {},
     "output_type": "execute_result"
    }
   ],
   "source": [
    "data['Sun_Visor'].value_counts()"
   ]
  },
  {
   "cell_type": "code",
   "execution_count": 93,
   "id": "3adb994b",
   "metadata": {},
   "outputs": [
    {
     "data": {
      "text/plain": [
       "Analog + Digital    996\n",
       "Analog              168\n",
       "Digital              74\n",
       "Name: Instrument_Console, dtype: int64"
      ]
     },
     "execution_count": 93,
     "metadata": {},
     "output_type": "execute_result"
    }
   ],
   "source": [
    "data['Instrument_Console'].value_counts()"
   ]
  },
  {
   "cell_type": "code",
   "execution_count": 94,
   "id": "2cf4ac43",
   "metadata": {},
   "outputs": [
    {
     "data": {
      "text/plain": [
       "Multifunction Steering Wheel                             708\n",
       "Yes                                                      107\n",
       "Multifunction Steering Wheel, With gear shift paddles     74\n",
       "With gear shift paddles, Multifunction Steering Wheel      9\n",
       "With gear shift paddles                                    5\n",
       "Name: Multifunction_Steering_Wheel, dtype: int64"
      ]
     },
     "execution_count": 94,
     "metadata": {},
     "output_type": "execute_result"
    }
   ],
   "source": [
    "data['Multifunction_Steering_Wheel'].value_counts()"
   ]
  },
  {
   "cell_type": "code",
   "execution_count": 95,
   "id": "467b85b4",
   "metadata": {},
   "outputs": [
    {
     "data": {
      "text/plain": [
       "Yes    1163\n",
       "Name: Multifunction_Display, dtype: int64"
      ]
     },
     "execution_count": 95,
     "metadata": {},
     "output_type": "execute_result"
    }
   ],
   "source": [
    "data['Multifunction_Display'].value_counts()"
   ]
  },
  {
   "cell_type": "code",
   "execution_count": 96,
   "id": "4b222ad4",
   "metadata": {},
   "outputs": [
    {
     "data": {
      "text/plain": [
       "Rake, Reach    538\n",
       "Rake           456\n",
       "Reach, Rake     51\n",
       "Yes             16\n",
       "Name: Adjustable_Steering_Column, dtype: int64"
      ]
     },
     "execution_count": 96,
     "metadata": {},
     "output_type": "execute_result"
    }
   ],
   "source": [
    "data['Adjustable_Steering_Column'].value_counts()"
   ]
  },
  {
   "cell_type": "code",
   "execution_count": 97,
   "id": "24df53bc",
   "metadata": {},
   "outputs": [
    {
     "data": {
      "text/plain": [
       "Yes    924\n",
       "Name: Key_Off_Reminder, dtype: int64"
      ]
     },
     "execution_count": 97,
     "metadata": {},
     "output_type": "execute_result"
    }
   ],
   "source": [
    "data['Key_Off_Reminder'].value_counts()"
   ]
  },
  {
   "cell_type": "code",
   "execution_count": 98,
   "id": "34a7919c",
   "metadata": {},
   "outputs": [
    {
     "data": {
      "text/plain": [
       "Yes    1192\n",
       "Name: Engine_Immobilizer, dtype: int64"
      ]
     },
     "execution_count": 98,
     "metadata": {},
     "output_type": "execute_result"
    }
   ],
   "source": [
    "data['Engine_Immobilizer'].value_counts()"
   ]
  },
  {
   "cell_type": "code",
   "execution_count": 99,
   "id": "c87a0a04",
   "metadata": {},
   "outputs": [
    {
     "data": {
      "text/plain": [
       "Yes    1109\n",
       "Name: Door_Ajar_Warning, dtype: int64"
      ]
     },
     "execution_count": 99,
     "metadata": {},
     "output_type": "execute_result"
    }
   ],
   "source": [
    "data['Door_Ajar_Warning'].value_counts()"
   ]
  },
  {
   "cell_type": "code",
   "execution_count": 100,
   "id": "99b331fe",
   "metadata": {},
   "outputs": [
    {
     "data": {
      "text/plain": [
       "Yes    1051\n",
       "Name: EBD_(Electronic_Brake-force_Distribution), dtype: int64"
      ]
     },
     "execution_count": 100,
     "metadata": {},
     "output_type": "execute_result"
    }
   ],
   "source": [
    "data['EBD_(Electronic_Brake-force_Distribution)'].value_counts()"
   ]
  },
  {
   "cell_type": "code",
   "execution_count": 101,
   "id": "5370d0bb",
   "metadata": {},
   "outputs": [
    {
     "data": {
      "text/plain": [
       "Yes    1120\n",
       "Name: ABS_(Anti-lock_Braking_System), dtype: int64"
      ]
     },
     "execution_count": 101,
     "metadata": {},
     "output_type": "execute_result"
    }
   ],
   "source": [
    "data['ABS_(Anti-lock_Braking_System)'].value_counts()"
   ]
  },
  {
   "cell_type": "code",
   "execution_count": 102,
   "id": "8640bf7f",
   "metadata": {},
   "outputs": [
    {
     "data": {
      "text/plain": [
       "Yes    1063\n",
       "Name: Fasten_Seat_Belt_Warning, dtype: int64"
      ]
     },
     "execution_count": 102,
     "metadata": {},
     "output_type": "execute_result"
    }
   ],
   "source": [
    "data['Fasten_Seat_Belt_Warning'].value_counts()"
   ]
  },
  {
   "cell_type": "code",
   "execution_count": 103,
   "id": "89f33b55",
   "metadata": {},
   "outputs": [
    {
     "data": {
      "text/plain": [
       "All Rows                 680\n",
       "Front Row                196\n",
       "Yes                       83\n",
       "Second Row                36\n",
       "Front Row, Second Row      6\n",
       "Second Row, Front Row      1\n",
       "Name: Adjustable_Headrests, dtype: int64"
      ]
     },
     "execution_count": 103,
     "metadata": {},
     "output_type": "execute_result"
    }
   ],
   "source": [
    "data['Adjustable_Headrests'].value_counts()"
   ]
  },
  {
   "cell_type": "code",
   "execution_count": 104,
   "id": "6e0a16e8",
   "metadata": {},
   "outputs": [
    {
     "data": {
      "text/plain": [
       "Yes          991\n",
       "Automatic      3\n",
       "Name: Headlight_Reminder, dtype: int64"
      ]
     },
     "execution_count": 104,
     "metadata": {},
     "output_type": "execute_result"
    }
   ],
   "source": [
    "data['Headlight_Reminder'].value_counts()"
   ]
  },
  {
   "cell_type": "code",
   "execution_count": 105,
   "id": "3d93799f",
   "metadata": {},
   "outputs": [
    {
     "data": {
      "text/plain": [
       "Yes    820\n",
       "Name: Seat_Back_Pockets, dtype: int64"
      ]
     },
     "execution_count": 105,
     "metadata": {},
     "output_type": "execute_result"
    }
   ],
   "source": [
    "data['Seat_Back_Pockets'].value_counts()"
   ]
  },
  {
   "cell_type": "markdown",
   "id": "a4905e57",
   "metadata": {},
   "source": [
    "##### Dropping all those columns which don't contribute to variations since these features are found in all modern cars these days."
   ]
  },
  {
   "cell_type": "markdown",
   "id": "bf60a130",
   "metadata": {},
   "source": [
    "###### Feature like 'Sun_Visor' is present in all cars, while 'Cup_Holders' are something which are inbuilt in all cars manufactured after 1950s. Similarly, features like 'engine immobilizer', etc are something which have been made a compulsory feature in almost all modern cars."
   ]
  },
  {
   "cell_type": "code",
   "execution_count": 106,
   "id": "b15453f4",
   "metadata": {},
   "outputs": [],
   "source": [
    "data.drop([ 'Door_Pockets','Sun_Visor','Cup_Holders','Multifunction_Display','Key_Off_Reminder','Adjustable_Steering_Column','Engine_Immobilizer','Door_Ajar_Warning','EBD_(Electronic_Brake-force_Distribution)','ABS_(Anti-lock_Braking_System)','Fasten_Seat_Belt_Warning','Headlight_Reminder','Seat_Back_Pockets'], axis =1 , inplace=True)"
   ]
  },
  {
   "cell_type": "code",
   "execution_count": 107,
   "id": "0bbd16c6",
   "metadata": {},
   "outputs": [],
   "source": [
    "data.drop([ 'Multifunction_Steering_Wheel'], axis =1 , inplace=True)\n"
   ]
  },
  {
   "cell_type": "code",
   "execution_count": 108,
   "id": "93d3b2cb",
   "metadata": {},
   "outputs": [],
   "source": [
    "data.drop([ 'Average_Fuel_Consumption'], axis =1 , inplace=True)\n"
   ]
  },
  {
   "cell_type": "code",
   "execution_count": 109,
   "id": "410efcaf",
   "metadata": {},
   "outputs": [
    {
     "data": {
      "text/plain": [
       "Digital            707\n",
       "Analog             421\n",
       "Yes                 81\n",
       "Digital, Analog      3\n",
       "Analog, Digital      1\n",
       "Name: Fuel_Gauge, dtype: int64"
      ]
     },
     "execution_count": 109,
     "metadata": {},
     "output_type": "execute_result"
    }
   ],
   "source": [
    "data['Fuel_Gauge'].value_counts()"
   ]
  },
  {
   "cell_type": "code",
   "execution_count": 110,
   "id": "055417f7",
   "metadata": {},
   "outputs": [
    {
     "data": {
      "text/plain": [
       "Digital            1034\n",
       "Analog               41\n",
       "Yes                  39\n",
       "Digital, Analog       4\n",
       "Name: Clock, dtype: int64"
      ]
     },
     "execution_count": 110,
     "metadata": {},
     "output_type": "execute_result"
    }
   ],
   "source": [
    "data['Clock'].value_counts()"
   ]
  },
  {
   "cell_type": "code",
   "execution_count": 111,
   "id": "5828a8b0",
   "metadata": {},
   "outputs": [],
   "source": [
    "data['Clock']=data['Clock'].replace('Yes','Digital')\n",
    "data['Clock']=data['Clock'].replace('Digital, Analog','Digital')\n"
   ]
  },
  {
   "cell_type": "code",
   "execution_count": 112,
   "id": "8ec3a9c3",
   "metadata": {},
   "outputs": [
    {
     "data": {
      "text/plain": [
       "Yes    1180\n",
       "Name: Child_Safety_Locks, dtype: int64"
      ]
     },
     "execution_count": 112,
     "metadata": {},
     "output_type": "execute_result"
    }
   ],
   "source": [
    "data['Child_Safety_Locks'].value_counts()"
   ]
  },
  {
   "cell_type": "code",
   "execution_count": 113,
   "id": "2821716a",
   "metadata": {},
   "outputs": [
    {
     "data": {
      "text/plain": [
       "Manual       892\n",
       "Automatic    302\n",
       "Name: Handbrake, dtype: int64"
      ]
     },
     "execution_count": 113,
     "metadata": {},
     "output_type": "execute_result"
    }
   ],
   "source": [
    "data['Handbrake'].value_counts()"
   ]
  },
  {
   "cell_type": "code",
   "execution_count": 114,
   "id": "71873210",
   "metadata": {},
   "outputs": [
    {
     "data": {
      "text/plain": [
       "Yes    1216\n",
       "Name: Low_Fuel_Warning, dtype: int64"
      ]
     },
     "execution_count": 114,
     "metadata": {},
     "output_type": "execute_result"
    }
   ],
   "source": [
    "data['Low_Fuel_Warning'].value_counts()"
   ]
  },
  {
   "cell_type": "code",
   "execution_count": 115,
   "id": "9cb4592e",
   "metadata": {},
   "outputs": [
    {
     "data": {
      "text/plain": [
       "Yes    1007\n",
       "Name: FM_Radio, dtype: int64"
      ]
     },
     "execution_count": 115,
     "metadata": {},
     "output_type": "execute_result"
    }
   ],
   "source": [
    "data['FM_Radio'].value_counts()"
   ]
  },
  {
   "cell_type": "code",
   "execution_count": 116,
   "id": "7e826369",
   "metadata": {},
   "outputs": [
    {
     "data": {
      "text/plain": [
       "Yes    1135\n",
       "Name: Engine_Malfunction_Light, dtype: int64"
      ]
     },
     "execution_count": 116,
     "metadata": {},
     "output_type": "execute_result"
    }
   ],
   "source": [
    "data['Engine_Malfunction_Light'].value_counts()"
   ]
  },
  {
   "cell_type": "code",
   "execution_count": 117,
   "id": "4290e038",
   "metadata": {},
   "outputs": [
    {
     "data": {
      "text/plain": [
       "Yes    1105\n",
       "Name: Central_Locking, dtype: int64"
      ]
     },
     "execution_count": 117,
     "metadata": {},
     "output_type": "execute_result"
    }
   ],
   "source": [
    "data['Central_Locking'].value_counts()"
   ]
  },
  {
   "cell_type": "code",
   "execution_count": 118,
   "id": "664d0a7c",
   "metadata": {},
   "outputs": [
    {
     "data": {
      "text/plain": [
       "Yes    1009\n",
       "Name: Distance_to_Empty, dtype: int64"
      ]
     },
     "execution_count": 118,
     "metadata": {},
     "output_type": "execute_result"
    }
   ],
   "source": [
    "data['Distance_to_Empty'].value_counts()"
   ]
  },
  {
   "cell_type": "code",
   "execution_count": 119,
   "id": "5a97d020",
   "metadata": {},
   "outputs": [
    {
     "data": {
      "text/plain": [
       "Yes    871\n",
       "2      125\n",
       "1       58\n",
       "3       38\n",
       "4        6\n",
       "Name: 12v_Power_Outlet, dtype: int64"
      ]
     },
     "execution_count": 119,
     "metadata": {},
     "output_type": "execute_result"
    }
   ],
   "source": [
    "data['12v_Power_Outlet'].value_counts()"
   ]
  },
  {
   "cell_type": "code",
   "execution_count": 120,
   "id": "e7f6b8b9",
   "metadata": {},
   "outputs": [],
   "source": [
    "data['12v_Power_Outlet']=data['12v_Power_Outlet'].replace('Yes','2')\n"
   ]
  },
  {
   "cell_type": "code",
   "execution_count": 121,
   "id": "86054494",
   "metadata": {},
   "outputs": [],
   "source": [
    "data['12v_Power_Outlet'] = data['12v_Power_Outlet'].replace('[\\\"mm\"\\,\\.]', '', regex=True).astype(float)"
   ]
  },
  {
   "cell_type": "code",
   "execution_count": 122,
   "id": "17b5b8fb",
   "metadata": {},
   "outputs": [],
   "source": [
    "data.drop([ 'Adjustable_Headrests','Fuel_Gauge','Child_Safety_Locks','Low_Fuel_Warning','FM_Radio','Engine_Malfunction_Light','Central_Locking','Distance_to_Empty'], axis =1 , inplace=True)\n"
   ]
  },
  {
   "cell_type": "code",
   "execution_count": 123,
   "id": "d3b4dbdd",
   "metadata": {
    "scrolled": true
   },
   "outputs": [
    {
     "data": {
      "text/plain": [
       "Unnamed: 0                  0\n",
       "Make                       74\n",
       "Ex-Showroom_Price           0\n",
       "Displacement               11\n",
       "Cylinders                  65\n",
       "Drivetrain                  7\n",
       "Cylinder_Configuration     12\n",
       "Emission_Norm              10\n",
       "Engine_Location            43\n",
       "Fuel_System                 7\n",
       "Fuel_Tank_Capacity         66\n",
       "Fuel_Type                   0\n",
       "Width                      12\n",
       "Body_Type                   6\n",
       "Kerb_Weight               364\n",
       "Gears                     105\n",
       "Front_Brakes               25\n",
       "Rear_Brakes                25\n",
       "Front_Suspension           59\n",
       "Rear_Suspension            46\n",
       "Front_Tyre_&_Rim           48\n",
       "Rear_Tyre_&_Rim            47\n",
       "Power_Steering             56\n",
       "Power_Windows              96\n",
       "Keyless_Entry             273\n",
       "Power                       0\n",
       "Seats_Material             11\n",
       "Type                        1\n",
       "12v_Power_Outlet          153\n",
       "Audiosystem                43\n",
       "Basic_Warranty            435\n",
       "Clock                     133\n",
       "Fuel-lid_Opener            13\n",
       "Handbrake                  57\n",
       "Instrument_Console         13\n",
       "Third_Row_AC_Vents        354\n",
       "Ventilation_System         34\n",
       "Airbags                   131\n",
       "Number_of_Airbags         134\n",
       "Parking_Assistance        286\n",
       "Seat_Height_Adjustment    314\n",
       "Length_new                  0\n",
       "Average_Mileage            95\n",
       "dtype: int64"
      ]
     },
     "execution_count": 123,
     "metadata": {},
     "output_type": "execute_result"
    }
   ],
   "source": [
    "data.isnull().sum(axis = 0)"
   ]
  },
  {
   "cell_type": "code",
   "execution_count": 124,
   "id": "0ce1af77",
   "metadata": {},
   "outputs": [
    {
     "data": {
      "text/plain": [
       "Smart Key            452\n",
       "Remote               402\n",
       "Yes                  103\n",
       "Remote, Smart Key     20\n",
       "Smart Key, Remote      1\n",
       "Name: Keyless_Entry, dtype: int64"
      ]
     },
     "execution_count": 124,
     "metadata": {},
     "output_type": "execute_result"
    }
   ],
   "source": [
    "data['Keyless_Entry'].value_counts()"
   ]
  },
  {
   "cell_type": "code",
   "execution_count": 125,
   "id": "2e09c2ba",
   "metadata": {},
   "outputs": [],
   "source": [
    "data['Keyless_Entry']=data['Keyless_Entry'].replace('Yes','Remote')\n",
    "data['Keyless_Entry']=data['Keyless_Entry'].replace('Remote, Smart Key','Both')\n",
    "data['Keyless_Entry']=data['Keyless_Entry'].replace('Smart Key, Remote','Both')\n"
   ]
  },
  {
   "cell_type": "code",
   "execution_count": 126,
   "id": "60f6829e",
   "metadata": {},
   "outputs": [
    {
     "data": {
      "text/plain": [
       "Manual       706\n",
       "Automatic    516\n",
       "AMT           18\n",
       "DCT            7\n",
       "CVT            3\n",
       "Name: Type, dtype: int64"
      ]
     },
     "execution_count": 126,
     "metadata": {},
     "output_type": "execute_result"
    }
   ],
   "source": [
    "data['Type'].value_counts()"
   ]
  },
  {
   "cell_type": "code",
   "execution_count": 127,
   "id": "a7daf89b",
   "metadata": {},
   "outputs": [],
   "source": [
    "data['Type']=data['Type'].replace('AMT','Automatic')\n",
    "data['Type']=data['Type'].replace('DCT','Automatic')\n",
    "data['Type']=data['Type'].replace('CVT','Automatic')\n"
   ]
  },
  {
   "cell_type": "code",
   "execution_count": 128,
   "id": "63c03502",
   "metadata": {},
   "outputs": [
    {
     "data": {
      "text/plain": [
       "Fabric          720\n",
       "Leather         507\n",
       "Vinyl             9\n",
       "Polyurethene      4\n",
       "Name: Seats_Material, dtype: int64"
      ]
     },
     "execution_count": 128,
     "metadata": {},
     "output_type": "execute_result"
    }
   ],
   "source": [
    "data['Seats_Material'].value_counts()"
   ]
  },
  {
   "cell_type": "code",
   "execution_count": 129,
   "id": "6dc675e6",
   "metadata": {},
   "outputs": [
    {
     "data": {
      "text/plain": [
       "All Windows           1013\n",
       "Only Front Windows     142\n",
       "Name: Power_Windows, dtype: int64"
      ]
     },
     "execution_count": 129,
     "metadata": {},
     "output_type": "execute_result"
    }
   ],
   "source": [
    "data['Power_Windows'].value_counts()"
   ]
  },
  {
   "cell_type": "code",
   "execution_count": 130,
   "id": "7cb2143e",
   "metadata": {},
   "outputs": [
    {
     "data": {
      "text/plain": [
       "Electric Power                     900\n",
       "Electro-Hydraulic                  137\n",
       "Yes                                 85\n",
       "Hydraulic Power                     72\n",
       "Electric Power, Hydraulic Power      1\n",
       "Name: Power_Steering, dtype: int64"
      ]
     },
     "execution_count": 130,
     "metadata": {},
     "output_type": "execute_result"
    }
   ],
   "source": [
    "data['Power_Steering'].value_counts()"
   ]
  },
  {
   "cell_type": "code",
   "execution_count": 131,
   "id": "78f3b80e",
   "metadata": {},
   "outputs": [],
   "source": [
    "data['Power_Steering']=data['Power_Steering'].replace('Yes','Electric Power')\n",
    "data['Power_Steering']=data['Power_Steering'].replace('Electric Power, Hydraulic Power','Electro-Hydraulic')\n"
   ]
  },
  {
   "cell_type": "code",
   "execution_count": 132,
   "id": "bf2628eb",
   "metadata": {},
   "outputs": [
    {
     "data": {
      "text/plain": [
       "Manual Adjustment                  519\n",
       "Electric Adjustment with Memory    237\n",
       "Electric Adjustment                167\n",
       "Semi Automatic Adjustment           14\n",
       "Name: Seat_Height_Adjustment, dtype: int64"
      ]
     },
     "execution_count": 132,
     "metadata": {},
     "output_type": "execute_result"
    }
   ],
   "source": [
    "data['Seat_Height_Adjustment'].value_counts()"
   ]
  },
  {
   "cell_type": "code",
   "execution_count": 133,
   "id": "0435b094",
   "metadata": {},
   "outputs": [
    {
     "data": {
      "text/plain": [
       "Ventilated Disc    1142\n",
       "Solid Disc           74\n",
       "Drum                 10\n",
       "Name: Front_Brakes, dtype: int64"
      ]
     },
     "execution_count": 133,
     "metadata": {},
     "output_type": "execute_result"
    }
   ],
   "source": [
    "data['Front_Brakes'].value_counts()"
   ]
  },
  {
   "cell_type": "code",
   "execution_count": 134,
   "id": "7e17747e",
   "metadata": {},
   "outputs": [
    {
     "data": {
      "text/plain": [
       "Drum               761\n",
       "Ventilated Disc    421\n",
       "Solid Disc          44\n",
       "Name: Rear_Brakes, dtype: int64"
      ]
     },
     "execution_count": 134,
     "metadata": {},
     "output_type": "execute_result"
    }
   ],
   "source": [
    "data['Rear_Brakes'].value_counts()"
   ]
  },
  {
   "cell_type": "code",
   "execution_count": 135,
   "id": "2c414c5c",
   "metadata": {},
   "outputs": [
    {
     "data": {
      "text/plain": [
       "In-line    1060\n",
       "V           175\n",
       "Flat          4\n",
       "Name: Cylinder_Configuration, dtype: int64"
      ]
     },
     "execution_count": 135,
     "metadata": {},
     "output_type": "execute_result"
    }
   ],
   "source": [
    "data['Cylinder_Configuration'].value_counts()"
   ]
  },
  {
   "cell_type": "code",
   "execution_count": 136,
   "id": "520505d2",
   "metadata": {
    "scrolled": true
   },
   "outputs": [
    {
     "data": {
      "text/plain": [
       "Unnamed: 0                  int64\n",
       "Make                       object\n",
       "Ex-Showroom_Price         float64\n",
       "Displacement              float64\n",
       "Cylinders                 float64\n",
       "Drivetrain                 object\n",
       "Cylinder_Configuration     object\n",
       "Emission_Norm              object\n",
       "Engine_Location            object\n",
       "Fuel_System                object\n",
       "Fuel_Tank_Capacity        float64\n",
       "Fuel_Type                  object\n",
       "Width                     float64\n",
       "Body_Type                  object\n",
       "Kerb_Weight               float64\n",
       "Gears                     float64\n",
       "Front_Brakes               object\n",
       "Rear_Brakes                object\n",
       "Front_Suspension           object\n",
       "Rear_Suspension            object\n",
       "Front_Tyre_&_Rim           object\n",
       "Rear_Tyre_&_Rim            object\n",
       "Power_Steering             object\n",
       "Power_Windows              object\n",
       "Keyless_Entry              object\n",
       "Power                      object\n",
       "Seats_Material             object\n",
       "Type                       object\n",
       "12v_Power_Outlet          float64\n",
       "Audiosystem                object\n",
       "Basic_Warranty             object\n",
       "Clock                      object\n",
       "Fuel-lid_Opener            object\n",
       "Handbrake                  object\n",
       "Instrument_Console         object\n",
       "Third_Row_AC_Vents         object\n",
       "Ventilation_System         object\n",
       "Airbags                    object\n",
       "Number_of_Airbags         float64\n",
       "Parking_Assistance         object\n",
       "Seat_Height_Adjustment     object\n",
       "Length_new                float64\n",
       "Average_Mileage           float64\n",
       "dtype: object"
      ]
     },
     "execution_count": 136,
     "metadata": {},
     "output_type": "execute_result"
    }
   ],
   "source": [
    "data.dtypes"
   ]
  },
  {
   "cell_type": "markdown",
   "id": "9242d04d",
   "metadata": {},
   "source": [
    "# Treatment of missing values"
   ]
  },
  {
   "cell_type": "markdown",
   "id": "647c05ca",
   "metadata": {},
   "source": [
    "## Filling all the missing values in numerical variables with the mean of the respective columns."
   ]
  },
  {
   "cell_type": "code",
   "execution_count": 137,
   "id": "7a0b58a4",
   "metadata": {},
   "outputs": [],
   "source": [
    "data['Displacement'] = data['Displacement'].fillna(data['Displacement'].mean())\n",
    "data['Cylinders'] = data['Cylinders'].fillna(data['Cylinders'].mean())\n",
    "data['Fuel_Tank_Capacity'] = data['Fuel_Tank_Capacity'].fillna(data['Fuel_Tank_Capacity'].mean())\n",
    "data['Width'] = data['Width'].fillna(data['Width'].mean())\n",
    "data['Kerb_Weight'] = data['Kerb_Weight'].fillna(data['Kerb_Weight'].mean())\n",
    "data['Gears'] = data['Gears'].fillna(data['Gears'].mean())\n",
    "data['12v_Power_Outlet'] = data['12v_Power_Outlet'].fillna(data['12v_Power_Outlet'].mean())\n",
    "data['Number_of_Airbags'] = data['Number_of_Airbags'].fillna(data['Number_of_Airbags'].mean())\n",
    "data['Average_Mileage'] = data['Average_Mileage'].fillna(data['Average_Mileage'].mean())"
   ]
  },
  {
   "cell_type": "code",
   "execution_count": 138,
   "id": "dd68b22a",
   "metadata": {
    "scrolled": true
   },
   "outputs": [
    {
     "data": {
      "text/plain": [
       "Unnamed: 0                  0\n",
       "Make                       74\n",
       "Ex-Showroom_Price           0\n",
       "Displacement                0\n",
       "Cylinders                   0\n",
       "Drivetrain                  7\n",
       "Cylinder_Configuration     12\n",
       "Emission_Norm              10\n",
       "Engine_Location            43\n",
       "Fuel_System                 7\n",
       "Fuel_Tank_Capacity          0\n",
       "Fuel_Type                   0\n",
       "Width                       0\n",
       "Body_Type                   6\n",
       "Kerb_Weight                 0\n",
       "Gears                       0\n",
       "Front_Brakes               25\n",
       "Rear_Brakes                25\n",
       "Front_Suspension           59\n",
       "Rear_Suspension            46\n",
       "Front_Tyre_&_Rim           48\n",
       "Rear_Tyre_&_Rim            47\n",
       "Power_Steering             56\n",
       "Power_Windows              96\n",
       "Keyless_Entry             273\n",
       "Power                       0\n",
       "Seats_Material             11\n",
       "Type                        1\n",
       "12v_Power_Outlet            0\n",
       "Audiosystem                43\n",
       "Basic_Warranty            435\n",
       "Clock                     133\n",
       "Fuel-lid_Opener            13\n",
       "Handbrake                  57\n",
       "Instrument_Console         13\n",
       "Third_Row_AC_Vents        354\n",
       "Ventilation_System         34\n",
       "Airbags                   131\n",
       "Number_of_Airbags           0\n",
       "Parking_Assistance        286\n",
       "Seat_Height_Adjustment    314\n",
       "Length_new                  0\n",
       "Average_Mileage             0\n",
       "dtype: int64"
      ]
     },
     "execution_count": 138,
     "metadata": {},
     "output_type": "execute_result"
    }
   ],
   "source": [
    "data.isnull().sum(axis = 0)"
   ]
  },
  {
   "cell_type": "markdown",
   "id": "d81f22b8",
   "metadata": {},
   "source": [
    "## Filling all the remaining missing values in categorical variables with the most frequently occurring feature in the respective columns."
   ]
  },
  {
   "cell_type": "code",
   "execution_count": 139,
   "id": "aa50174b",
   "metadata": {},
   "outputs": [],
   "source": [
    "data = data.apply(lambda x: x.fillna(x.value_counts().index[0]))"
   ]
  },
  {
   "cell_type": "code",
   "execution_count": 140,
   "id": "b6f7c8de",
   "metadata": {},
   "outputs": [
    {
     "data": {
      "text/html": [
       "<div>\n",
       "<style scoped>\n",
       "    .dataframe tbody tr th:only-of-type {\n",
       "        vertical-align: middle;\n",
       "    }\n",
       "\n",
       "    .dataframe tbody tr th {\n",
       "        vertical-align: top;\n",
       "    }\n",
       "\n",
       "    .dataframe thead th {\n",
       "        text-align: right;\n",
       "    }\n",
       "</style>\n",
       "<table border=\"1\" class=\"dataframe\">\n",
       "  <thead>\n",
       "    <tr style=\"text-align: right;\">\n",
       "      <th></th>\n",
       "      <th>Unnamed: 0</th>\n",
       "      <th>Make</th>\n",
       "      <th>Ex-Showroom_Price</th>\n",
       "      <th>Displacement</th>\n",
       "      <th>Cylinders</th>\n",
       "      <th>Drivetrain</th>\n",
       "      <th>Cylinder_Configuration</th>\n",
       "      <th>Emission_Norm</th>\n",
       "      <th>Engine_Location</th>\n",
       "      <th>Fuel_System</th>\n",
       "      <th>...</th>\n",
       "      <th>Handbrake</th>\n",
       "      <th>Instrument_Console</th>\n",
       "      <th>Third_Row_AC_Vents</th>\n",
       "      <th>Ventilation_System</th>\n",
       "      <th>Airbags</th>\n",
       "      <th>Number_of_Airbags</th>\n",
       "      <th>Parking_Assistance</th>\n",
       "      <th>Seat_Height_Adjustment</th>\n",
       "      <th>Length_new</th>\n",
       "      <th>Average_Mileage</th>\n",
       "    </tr>\n",
       "  </thead>\n",
       "  <tbody>\n",
       "    <tr>\n",
       "      <th>0</th>\n",
       "      <td>0</td>\n",
       "      <td>Tata</td>\n",
       "      <td>292667.0</td>\n",
       "      <td>624.0</td>\n",
       "      <td>2.0</td>\n",
       "      <td>RWD (Rear Wheel Drive)</td>\n",
       "      <td>In-line</td>\n",
       "      <td>BS IV</td>\n",
       "      <td>Rear, Transverse</td>\n",
       "      <td>Injection</td>\n",
       "      <td>...</td>\n",
       "      <td>Manual</td>\n",
       "      <td>Analog + Digital</td>\n",
       "      <td>Not Applicable</td>\n",
       "      <td>Manual Air conditioning with cooling and heating</td>\n",
       "      <td>Driver frontal airbag, Front passenger frontal...</td>\n",
       "      <td>3.80752</td>\n",
       "      <td>Rear sensors</td>\n",
       "      <td>Manual Adjustment</td>\n",
       "      <td>2697.0</td>\n",
       "      <td>23.600000</td>\n",
       "    </tr>\n",
       "    <tr>\n",
       "      <th>1</th>\n",
       "      <td>1</td>\n",
       "      <td>Tata</td>\n",
       "      <td>236447.0</td>\n",
       "      <td>624.0</td>\n",
       "      <td>2.0</td>\n",
       "      <td>RWD (Rear Wheel Drive)</td>\n",
       "      <td>In-line</td>\n",
       "      <td>BS IV</td>\n",
       "      <td>Rear, Transverse</td>\n",
       "      <td>Injection</td>\n",
       "      <td>...</td>\n",
       "      <td>Manual</td>\n",
       "      <td>Analog + Digital</td>\n",
       "      <td>Not Applicable</td>\n",
       "      <td>Fully automatic climate control</td>\n",
       "      <td>Driver frontal airbag, Front passenger frontal...</td>\n",
       "      <td>3.80752</td>\n",
       "      <td>Rear sensors</td>\n",
       "      <td>Manual Adjustment</td>\n",
       "      <td>2697.0</td>\n",
       "      <td>23.600000</td>\n",
       "    </tr>\n",
       "    <tr>\n",
       "      <th>2</th>\n",
       "      <td>2</td>\n",
       "      <td>Tata</td>\n",
       "      <td>296661.0</td>\n",
       "      <td>624.0</td>\n",
       "      <td>2.0</td>\n",
       "      <td>RWD (Rear Wheel Drive)</td>\n",
       "      <td>In-line</td>\n",
       "      <td>BS IV</td>\n",
       "      <td>Rear, Transverse</td>\n",
       "      <td>Injection</td>\n",
       "      <td>...</td>\n",
       "      <td>Manual</td>\n",
       "      <td>Analog + Digital</td>\n",
       "      <td>Not Applicable</td>\n",
       "      <td>Air Conditioning with cooling only</td>\n",
       "      <td>Driver frontal airbag, Front passenger frontal...</td>\n",
       "      <td>3.80752</td>\n",
       "      <td>Rear sensors</td>\n",
       "      <td>Manual Adjustment</td>\n",
       "      <td>2697.0</td>\n",
       "      <td>43.919126</td>\n",
       "    </tr>\n",
       "    <tr>\n",
       "      <th>3</th>\n",
       "      <td>3</td>\n",
       "      <td>Tata</td>\n",
       "      <td>334768.0</td>\n",
       "      <td>624.0</td>\n",
       "      <td>2.0</td>\n",
       "      <td>RWD (Rear Wheel Drive)</td>\n",
       "      <td>In-line</td>\n",
       "      <td>BS IV</td>\n",
       "      <td>Rear, Transverse</td>\n",
       "      <td>Injection</td>\n",
       "      <td>...</td>\n",
       "      <td>Manual</td>\n",
       "      <td>Analog + Digital</td>\n",
       "      <td>Not Applicable</td>\n",
       "      <td>Manual Air conditioning with cooling and heating</td>\n",
       "      <td>Driver frontal airbag, Front passenger frontal...</td>\n",
       "      <td>3.80752</td>\n",
       "      <td>Rear sensors</td>\n",
       "      <td>Manual Adjustment</td>\n",
       "      <td>2697.0</td>\n",
       "      <td>22.750000</td>\n",
       "    </tr>\n",
       "    <tr>\n",
       "      <th>4</th>\n",
       "      <td>4</td>\n",
       "      <td>Tata</td>\n",
       "      <td>272223.0</td>\n",
       "      <td>624.0</td>\n",
       "      <td>2.0</td>\n",
       "      <td>RWD (Rear Wheel Drive)</td>\n",
       "      <td>In-line</td>\n",
       "      <td>BS IV</td>\n",
       "      <td>Rear, Transverse</td>\n",
       "      <td>Injection</td>\n",
       "      <td>...</td>\n",
       "      <td>Manual</td>\n",
       "      <td>Analog + Digital</td>\n",
       "      <td>Not Applicable</td>\n",
       "      <td>Air Conditioning with cooling only</td>\n",
       "      <td>Driver frontal airbag, Front passenger frontal...</td>\n",
       "      <td>3.80752</td>\n",
       "      <td>Rear sensors</td>\n",
       "      <td>Manual Adjustment</td>\n",
       "      <td>2697.0</td>\n",
       "      <td>23.600000</td>\n",
       "    </tr>\n",
       "  </tbody>\n",
       "</table>\n",
       "<p>5 rows × 43 columns</p>\n",
       "</div>"
      ],
      "text/plain": [
       "   Unnamed: 0  Make  Ex-Showroom_Price  Displacement  Cylinders  \\\n",
       "0           0  Tata           292667.0         624.0        2.0   \n",
       "1           1  Tata           236447.0         624.0        2.0   \n",
       "2           2  Tata           296661.0         624.0        2.0   \n",
       "3           3  Tata           334768.0         624.0        2.0   \n",
       "4           4  Tata           272223.0         624.0        2.0   \n",
       "\n",
       "               Drivetrain Cylinder_Configuration Emission_Norm  \\\n",
       "0  RWD (Rear Wheel Drive)                In-line         BS IV   \n",
       "1  RWD (Rear Wheel Drive)                In-line         BS IV   \n",
       "2  RWD (Rear Wheel Drive)                In-line         BS IV   \n",
       "3  RWD (Rear Wheel Drive)                In-line         BS IV   \n",
       "4  RWD (Rear Wheel Drive)                In-line         BS IV   \n",
       "\n",
       "    Engine_Location Fuel_System  ...  Handbrake Instrument_Console  \\\n",
       "0  Rear, Transverse   Injection  ...     Manual   Analog + Digital   \n",
       "1  Rear, Transverse   Injection  ...     Manual   Analog + Digital   \n",
       "2  Rear, Transverse   Injection  ...     Manual   Analog + Digital   \n",
       "3  Rear, Transverse   Injection  ...     Manual   Analog + Digital   \n",
       "4  Rear, Transverse   Injection  ...     Manual   Analog + Digital   \n",
       "\n",
       "   Third_Row_AC_Vents                                Ventilation_System  \\\n",
       "0      Not Applicable  Manual Air conditioning with cooling and heating   \n",
       "1      Not Applicable                   Fully automatic climate control   \n",
       "2      Not Applicable                Air Conditioning with cooling only   \n",
       "3      Not Applicable  Manual Air conditioning with cooling and heating   \n",
       "4      Not Applicable                Air Conditioning with cooling only   \n",
       "\n",
       "                                             Airbags  Number_of_Airbags  \\\n",
       "0  Driver frontal airbag, Front passenger frontal...            3.80752   \n",
       "1  Driver frontal airbag, Front passenger frontal...            3.80752   \n",
       "2  Driver frontal airbag, Front passenger frontal...            3.80752   \n",
       "3  Driver frontal airbag, Front passenger frontal...            3.80752   \n",
       "4  Driver frontal airbag, Front passenger frontal...            3.80752   \n",
       "\n",
       "  Parking_Assistance Seat_Height_Adjustment Length_new Average_Mileage  \n",
       "0       Rear sensors      Manual Adjustment     2697.0       23.600000  \n",
       "1       Rear sensors      Manual Adjustment     2697.0       23.600000  \n",
       "2       Rear sensors      Manual Adjustment     2697.0       43.919126  \n",
       "3       Rear sensors      Manual Adjustment     2697.0       22.750000  \n",
       "4       Rear sensors      Manual Adjustment     2697.0       23.600000  \n",
       "\n",
       "[5 rows x 43 columns]"
      ]
     },
     "execution_count": 140,
     "metadata": {},
     "output_type": "execute_result"
    }
   ],
   "source": [
    "data.head()"
   ]
  },
  {
   "cell_type": "code",
   "execution_count": 141,
   "id": "3e16dea9",
   "metadata": {
    "scrolled": true
   },
   "outputs": [
    {
     "data": {
      "text/plain": [
       "Unnamed: 0                0\n",
       "Make                      0\n",
       "Ex-Showroom_Price         0\n",
       "Displacement              0\n",
       "Cylinders                 0\n",
       "Drivetrain                0\n",
       "Cylinder_Configuration    0\n",
       "Emission_Norm             0\n",
       "Engine_Location           0\n",
       "Fuel_System               0\n",
       "Fuel_Tank_Capacity        0\n",
       "Fuel_Type                 0\n",
       "Width                     0\n",
       "Body_Type                 0\n",
       "Kerb_Weight               0\n",
       "Gears                     0\n",
       "Front_Brakes              0\n",
       "Rear_Brakes               0\n",
       "Front_Suspension          0\n",
       "Rear_Suspension           0\n",
       "Front_Tyre_&_Rim          0\n",
       "Rear_Tyre_&_Rim           0\n",
       "Power_Steering            0\n",
       "Power_Windows             0\n",
       "Keyless_Entry             0\n",
       "Power                     0\n",
       "Seats_Material            0\n",
       "Type                      0\n",
       "12v_Power_Outlet          0\n",
       "Audiosystem               0\n",
       "Basic_Warranty            0\n",
       "Clock                     0\n",
       "Fuel-lid_Opener           0\n",
       "Handbrake                 0\n",
       "Instrument_Console        0\n",
       "Third_Row_AC_Vents        0\n",
       "Ventilation_System        0\n",
       "Airbags                   0\n",
       "Number_of_Airbags         0\n",
       "Parking_Assistance        0\n",
       "Seat_Height_Adjustment    0\n",
       "Length_new                0\n",
       "Average_Mileage           0\n",
       "dtype: int64"
      ]
     },
     "execution_count": 141,
     "metadata": {},
     "output_type": "execute_result"
    }
   ],
   "source": [
    "data.isnull().sum(axis = 0)"
   ]
  },
  {
   "cell_type": "code",
   "execution_count": 142,
   "id": "21e6f40f",
   "metadata": {},
   "outputs": [
    {
     "data": {
      "text/html": [
       "<div>\n",
       "<style scoped>\n",
       "    .dataframe tbody tr th:only-of-type {\n",
       "        vertical-align: middle;\n",
       "    }\n",
       "\n",
       "    .dataframe tbody tr th {\n",
       "        vertical-align: top;\n",
       "    }\n",
       "\n",
       "    .dataframe thead th {\n",
       "        text-align: right;\n",
       "    }\n",
       "</style>\n",
       "<table border=\"1\" class=\"dataframe\">\n",
       "  <thead>\n",
       "    <tr style=\"text-align: right;\">\n",
       "      <th></th>\n",
       "      <th>Unnamed: 0</th>\n",
       "      <th>Ex-Showroom_Price</th>\n",
       "      <th>Displacement</th>\n",
       "      <th>Cylinders</th>\n",
       "      <th>Fuel_Tank_Capacity</th>\n",
       "      <th>Width</th>\n",
       "      <th>Kerb_Weight</th>\n",
       "      <th>Gears</th>\n",
       "      <th>12v_Power_Outlet</th>\n",
       "      <th>Number_of_Airbags</th>\n",
       "      <th>Length_new</th>\n",
       "      <th>Average_Mileage</th>\n",
       "    </tr>\n",
       "  </thead>\n",
       "  <tbody>\n",
       "    <tr>\n",
       "      <th>count</th>\n",
       "      <td>1251.000000</td>\n",
       "      <td>1.251000e+03</td>\n",
       "      <td>1251.000000</td>\n",
       "      <td>1251.000000</td>\n",
       "      <td>1251.000000</td>\n",
       "      <td>1251.000000</td>\n",
       "      <td>1251.000000</td>\n",
       "      <td>1251.000000</td>\n",
       "      <td>1251.000000</td>\n",
       "      <td>1251.000000</td>\n",
       "      <td>1251.000000</td>\n",
       "      <td>1251.000000</td>\n",
       "    </tr>\n",
       "    <tr>\n",
       "      <th>mean</th>\n",
       "      <td>639.936051</td>\n",
       "      <td>4.440676e+06</td>\n",
       "      <td>1856.765323</td>\n",
       "      <td>4.370152</td>\n",
       "      <td>52.285992</td>\n",
       "      <td>1790.940274</td>\n",
       "      <td>1391.388952</td>\n",
       "      <td>5.891798</td>\n",
       "      <td>1.992714</td>\n",
       "      <td>3.807520</td>\n",
       "      <td>3475.446443</td>\n",
       "      <td>43.919126</td>\n",
       "    </tr>\n",
       "    <tr>\n",
       "      <th>std</th>\n",
       "      <td>368.044911</td>\n",
       "      <td>1.060184e+07</td>\n",
       "      <td>1043.064634</td>\n",
       "      <td>1.584046</td>\n",
       "      <td>16.117501</td>\n",
       "      <td>142.349878</td>\n",
       "      <td>411.523175</td>\n",
       "      <td>1.130870</td>\n",
       "      <td>0.309763</td>\n",
       "      <td>2.389245</td>\n",
       "      <td>341.834345</td>\n",
       "      <td>383.562317</td>\n",
       "    </tr>\n",
       "    <tr>\n",
       "      <th>min</th>\n",
       "      <td>0.000000</td>\n",
       "      <td>2.364470e+05</td>\n",
       "      <td>72.000000</td>\n",
       "      <td>2.000000</td>\n",
       "      <td>15.000000</td>\n",
       "      <td>1312.000000</td>\n",
       "      <td>660.000000</td>\n",
       "      <td>4.000000</td>\n",
       "      <td>1.000000</td>\n",
       "      <td>1.000000</td>\n",
       "      <td>1562.000000</td>\n",
       "      <td>3.000000</td>\n",
       "    </tr>\n",
       "    <tr>\n",
       "      <th>25%</th>\n",
       "      <td>325.500000</td>\n",
       "      <td>7.437520e+05</td>\n",
       "      <td>1198.000000</td>\n",
       "      <td>4.000000</td>\n",
       "      <td>41.000000</td>\n",
       "      <td>1695.000000</td>\n",
       "      <td>1105.000000</td>\n",
       "      <td>5.000000</td>\n",
       "      <td>2.000000</td>\n",
       "      <td>2.000000</td>\n",
       "      <td>3222.500000</td>\n",
       "      <td>15.100000</td>\n",
       "    </tr>\n",
       "    <tr>\n",
       "      <th>50%</th>\n",
       "      <td>640.000000</td>\n",
       "      <td>1.083000e+06</td>\n",
       "      <td>1497.000000</td>\n",
       "      <td>4.000000</td>\n",
       "      <td>50.000000</td>\n",
       "      <td>1777.000000</td>\n",
       "      <td>1391.388952</td>\n",
       "      <td>5.891798</td>\n",
       "      <td>2.000000</td>\n",
       "      <td>2.000000</td>\n",
       "      <td>3484.500000</td>\n",
       "      <td>18.300000</td>\n",
       "    </tr>\n",
       "    <tr>\n",
       "      <th>75%</th>\n",
       "      <td>961.500000</td>\n",
       "      <td>2.993900e+06</td>\n",
       "      <td>1998.000000</td>\n",
       "      <td>4.000000</td>\n",
       "      <td>60.000000</td>\n",
       "      <td>1853.000000</td>\n",
       "      <td>1562.000000</td>\n",
       "      <td>6.000000</td>\n",
       "      <td>2.000000</td>\n",
       "      <td>6.000000</td>\n",
       "      <td>3672.500000</td>\n",
       "      <td>22.100000</td>\n",
       "    </tr>\n",
       "    <tr>\n",
       "      <th>max</th>\n",
       "      <td>1275.000000</td>\n",
       "      <td>1.921429e+08</td>\n",
       "      <td>7993.000000</td>\n",
       "      <td>16.000000</td>\n",
       "      <td>105.000000</td>\n",
       "      <td>2226.000000</td>\n",
       "      <td>2962.000000</td>\n",
       "      <td>9.000000</td>\n",
       "      <td>4.000000</td>\n",
       "      <td>14.000000</td>\n",
       "      <td>4988.000000</td>\n",
       "      <td>13029.160000</td>\n",
       "    </tr>\n",
       "  </tbody>\n",
       "</table>\n",
       "</div>"
      ],
      "text/plain": [
       "        Unnamed: 0  Ex-Showroom_Price  Displacement    Cylinders  \\\n",
       "count  1251.000000       1.251000e+03   1251.000000  1251.000000   \n",
       "mean    639.936051       4.440676e+06   1856.765323     4.370152   \n",
       "std     368.044911       1.060184e+07   1043.064634     1.584046   \n",
       "min       0.000000       2.364470e+05     72.000000     2.000000   \n",
       "25%     325.500000       7.437520e+05   1198.000000     4.000000   \n",
       "50%     640.000000       1.083000e+06   1497.000000     4.000000   \n",
       "75%     961.500000       2.993900e+06   1998.000000     4.000000   \n",
       "max    1275.000000       1.921429e+08   7993.000000    16.000000   \n",
       "\n",
       "       Fuel_Tank_Capacity        Width  Kerb_Weight        Gears  \\\n",
       "count         1251.000000  1251.000000  1251.000000  1251.000000   \n",
       "mean            52.285992  1790.940274  1391.388952     5.891798   \n",
       "std             16.117501   142.349878   411.523175     1.130870   \n",
       "min             15.000000  1312.000000   660.000000     4.000000   \n",
       "25%             41.000000  1695.000000  1105.000000     5.000000   \n",
       "50%             50.000000  1777.000000  1391.388952     5.891798   \n",
       "75%             60.000000  1853.000000  1562.000000     6.000000   \n",
       "max            105.000000  2226.000000  2962.000000     9.000000   \n",
       "\n",
       "       12v_Power_Outlet  Number_of_Airbags   Length_new  Average_Mileage  \n",
       "count       1251.000000        1251.000000  1251.000000      1251.000000  \n",
       "mean           1.992714           3.807520  3475.446443        43.919126  \n",
       "std            0.309763           2.389245   341.834345       383.562317  \n",
       "min            1.000000           1.000000  1562.000000         3.000000  \n",
       "25%            2.000000           2.000000  3222.500000        15.100000  \n",
       "50%            2.000000           2.000000  3484.500000        18.300000  \n",
       "75%            2.000000           6.000000  3672.500000        22.100000  \n",
       "max            4.000000          14.000000  4988.000000     13029.160000  "
      ]
     },
     "execution_count": 142,
     "metadata": {},
     "output_type": "execute_result"
    }
   ],
   "source": [
    "data.describe()"
   ]
  },
  {
   "cell_type": "markdown",
   "id": "7364f48e",
   "metadata": {},
   "source": [
    "### Finally exporting the processed data so that it can be used in further steps of data visualization and model preparation."
   ]
  },
  {
   "cell_type": "code",
   "execution_count": 143,
   "id": "20c52854",
   "metadata": {},
   "outputs": [],
   "source": [
    "data.to_csv('processed_data.csv')"
   ]
  },
  {
   "cell_type": "code",
   "execution_count": null,
   "id": "2c298010",
   "metadata": {},
   "outputs": [],
   "source": []
  }
 ],
 "metadata": {
  "kernelspec": {
   "display_name": "Python 3 (ipykernel)",
   "language": "python",
   "name": "python3"
  },
  "language_info": {
   "codemirror_mode": {
    "name": "ipython",
    "version": 3
   },
   "file_extension": ".py",
   "mimetype": "text/x-python",
   "name": "python",
   "nbconvert_exporter": "python",
   "pygments_lexer": "ipython3",
   "version": "3.9.7"
  }
 },
 "nbformat": 4,
 "nbformat_minor": 5
}
